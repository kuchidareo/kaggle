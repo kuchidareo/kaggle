{
 "cells": [
  {
   "cell_type": "code",
   "execution_count": 1,
   "id": "6f13b385",
   "metadata": {
    "execution": {
     "iopub.execute_input": "2023-06-01T11:10:31.516961Z",
     "iopub.status.busy": "2023-06-01T11:10:31.515903Z",
     "iopub.status.idle": "2023-06-01T11:10:36.000456Z",
     "shell.execute_reply": "2023-06-01T11:10:35.998906Z"
    },
    "papermill": {
     "duration": 4.496404,
     "end_time": "2023-06-01T11:10:36.003305",
     "exception": false,
     "start_time": "2023-06-01T11:10:31.506901",
     "status": "completed"
    },
    "tags": []
   },
   "outputs": [],
   "source": [
    "import matplotlib.pyplot as plt\n",
    "import matplotlib.patches as patches\n",
    "import PIL.Image as Image\n",
    "import numpy as np\n",
    "import torch\n",
    "import glob\n",
    "from tqdm import tqdm\n",
    "import torch\n",
    "import torch.utils.data as data\n",
    "import torch.nn as nn\n",
    "import torch.optim as optim\n",
    "import ipywidgets as widgets"
   ]
  },
  {
   "cell_type": "code",
   "execution_count": 2,
   "id": "c2b7081f",
   "metadata": {
    "execution": {
     "iopub.execute_input": "2023-06-01T11:10:36.020588Z",
     "iopub.status.busy": "2023-06-01T11:10:36.019709Z",
     "iopub.status.idle": "2023-06-01T11:10:51.023511Z",
     "shell.execute_reply": "2023-06-01T11:10:51.022147Z"
    },
    "papermill": {
     "duration": 15.015133,
     "end_time": "2023-06-01T11:10:51.026363",
     "exception": false,
     "start_time": "2023-06-01T11:10:36.011230",
     "status": "completed"
    },
    "tags": []
   },
   "outputs": [
    {
     "name": "stderr",
     "output_type": "stream",
     "text": [
      "/opt/conda/lib/python3.10/site-packages/scipy/__init__.py:146: UserWarning: A NumPy version >=1.16.5 and <1.23.0 is required for this version of SciPy (detected version 1.23.5\n",
      "  warnings.warn(f\"A NumPy version >={np_minversion} and <{np_maxversion}\"\n"
     ]
    }
   ],
   "source": [
    "# !pip install pytorch-lightning\n",
    "import pytorch_lightning as pl\n",
    "from pytorch_lightning.callbacks import TQDMProgressBar\n",
    "\n",
    "PREFIX = '/kaggle/input/vesuvius-challenge-ink-detection'"
   ]
  },
  {
   "cell_type": "code",
   "execution_count": 3,
   "id": "5b361958",
   "metadata": {
    "_kg_hide-input": true,
    "execution": {
     "iopub.execute_input": "2023-06-01T11:10:51.041800Z",
     "iopub.status.busy": "2023-06-01T11:10:51.041333Z",
     "iopub.status.idle": "2023-06-01T11:10:51.046348Z",
     "shell.execute_reply": "2023-06-01T11:10:51.045206Z"
    },
    "papermill": {
     "duration": 0.01544,
     "end_time": "2023-06-01T11:10:51.048561",
     "exception": false,
     "start_time": "2023-06-01T11:10:51.033121",
     "status": "completed"
    },
    "tags": []
   },
   "outputs": [],
   "source": [
    "# fig, (ax1, ax2, ax3) = plt.subplots(1, 3)\n",
    "# ax1.imshow(Image.open(PREFIX+'/train/1/mask.png'))\n",
    "# ax2.imshow(Image.open(PREFIX+'/train/1/inklabels.png'))\n",
    "# ax3.imshow(Image.open(PREFIX+'/train/1/ir.png'))\n",
    "# plt.show()"
   ]
  },
  {
   "cell_type": "code",
   "execution_count": 4,
   "id": "0073edfb",
   "metadata": {
    "_kg_hide-input": true,
    "execution": {
     "iopub.execute_input": "2023-06-01T11:10:51.063453Z",
     "iopub.status.busy": "2023-06-01T11:10:51.062966Z",
     "iopub.status.idle": "2023-06-01T11:10:51.068001Z",
     "shell.execute_reply": "2023-06-01T11:10:51.066808Z"
    },
    "papermill": {
     "duration": 0.015588,
     "end_time": "2023-06-01T11:10:51.070432",
     "exception": false,
     "start_time": "2023-06-01T11:10:51.054844",
     "status": "completed"
    },
    "tags": []
   },
   "outputs": [],
   "source": [
    "# images = [Image.open(filename) for filename in tqdm(sorted(glob.glob(PREFIX+'/train/1/surface_volume/*.tif'))[0:5])]\n",
    "# fig, axes = plt.subplots(1, len(images))\n",
    "# for image, ax in zip(images, axes):\n",
    "#     ax.imshow(image)\n",
    "#     ax.set_xticks([])\n",
    "#     ax.set_yticks([])\n",
    "# plt.show()"
   ]
  },
  {
   "cell_type": "code",
   "execution_count": 5,
   "id": "5af8d6d5",
   "metadata": {
    "_kg_hide-input": true,
    "execution": {
     "iopub.execute_input": "2023-06-01T11:10:51.085417Z",
     "iopub.status.busy": "2023-06-01T11:10:51.084930Z",
     "iopub.status.idle": "2023-06-01T11:10:51.090172Z",
     "shell.execute_reply": "2023-06-01T11:10:51.088900Z"
    },
    "papermill": {
     "duration": 0.015631,
     "end_time": "2023-06-01T11:10:51.092408",
     "exception": false,
     "start_time": "2023-06-01T11:10:51.076777",
     "status": "completed"
    },
    "tags": []
   },
   "outputs": [],
   "source": [
    "# rect = (1550, 3500, 900, 950)\n",
    "# fig, ax = plt.subplots()\n",
    "# label = np.array(Image.open(PREFIX+'/train/1/inklabels.png'))\n",
    "# ax.imshow(label)\n",
    "# patch = patches.Rectangle((rect[0], rect[1]), rect[2], rect[3], facecolor='none', linewidth=2, edgecolor='r')\n",
    "# ax.add_patch(patch)\n",
    "# plt.show()"
   ]
  },
  {
   "cell_type": "code",
   "execution_count": 6,
   "id": "614ccd42",
   "metadata": {
    "execution": {
     "iopub.execute_input": "2023-06-01T11:10:51.107570Z",
     "iopub.status.busy": "2023-06-01T11:10:51.106586Z",
     "iopub.status.idle": "2023-06-01T11:10:51.112886Z",
     "shell.execute_reply": "2023-06-01T11:10:51.111789Z"
    },
    "papermill": {
     "duration": 0.016511,
     "end_time": "2023-06-01T11:10:51.115165",
     "exception": false,
     "start_time": "2023-06-01T11:10:51.098654",
     "status": "completed"
    },
    "tags": []
   },
   "outputs": [],
   "source": [
    "BUFFER = 30\n",
    "LEARNING_RATE = 0.03\n",
    "BATCH_SIZE = 32\n",
    "Z_START = 27\n",
    "Z_DIM = 10\n",
    "TRAINING_STEPS = 30000"
   ]
  },
  {
   "cell_type": "code",
   "execution_count": 7,
   "id": "c4745a6b",
   "metadata": {
    "execution": {
     "iopub.execute_input": "2023-06-01T11:10:51.128901Z",
     "iopub.status.busy": "2023-06-01T11:10:51.128588Z",
     "iopub.status.idle": "2023-06-01T11:11:13.101704Z",
     "shell.execute_reply": "2023-06-01T11:11:13.100132Z"
    },
    "papermill": {
     "duration": 21.983675,
     "end_time": "2023-06-01T11:11:13.105090",
     "exception": false,
     "start_time": "2023-06-01T11:10:51.121415",
     "status": "completed"
    },
    "tags": []
   },
   "outputs": [],
   "source": [
    "images = [np.array(Image.open(filename), dtype=np.float32)/65535.0 for filename in sorted(glob.glob(PREFIX+'/train/1/surface_volume/*.tif'))[Z_START:Z_START+Z_DIM]]\n",
    "image_stack = torch.stack([torch.from_numpy(image) for image in images], dim=0)\n",
    "\n",
    "label = torch.from_numpy(np.array(Image.open(PREFIX+'/train/1/inklabels.png'))).float()"
   ]
  },
  {
   "cell_type": "code",
   "execution_count": 8,
   "id": "d11f015e",
   "metadata": {
    "execution": {
     "iopub.execute_input": "2023-06-01T11:11:13.121131Z",
     "iopub.status.busy": "2023-06-01T11:11:13.120627Z",
     "iopub.status.idle": "2023-06-01T11:11:15.169776Z",
     "shell.execute_reply": "2023-06-01T11:11:15.168340Z"
    },
    "papermill": {
     "duration": 2.060682,
     "end_time": "2023-06-01T11:11:15.172639",
     "exception": false,
     "start_time": "2023-06-01T11:11:13.111957",
     "status": "completed"
    },
    "tags": []
   },
   "outputs": [],
   "source": [
    "rect = (1100, 3500, 700, 950)\n",
    "mask = np.array(Image.open(PREFIX+'/train/1/mask.png'), dtype=np.float32)\n",
    "not_border = np.zeros(mask.shape, dtype=np.bool_)\n",
    "not_border[BUFFER:mask.shape[0]-BUFFER, BUFFER:mask.shape[1]-BUFFER] = True\n",
    "\n",
    "arr_mask = np.array(mask) * not_border\n",
    "\n",
    "inside_rect = np.zeros(mask.shape, dtype=np.bool_)\n",
    "inside_rect[rect[1]:rect[1]+rect[3]+1, rect[0]:rect[0]+rect[2]+1] = True\n",
    "\n",
    "outside_rect = np.ones(mask.shape, dtype=np.bool_) * arr_mask\n",
    "outside_rect[rect[1]:rect[1]+rect[3]+1, rect[0]:rect[0]+rect[2]+1] = False\n",
    "\n",
    "pixels_inside_rect = np.argwhere(inside_rect)\n",
    "pixels_outside_rect = np.argwhere(outside_rect)"
   ]
  },
  {
   "cell_type": "code",
   "execution_count": 9,
   "id": "f5dbe64d",
   "metadata": {
    "execution": {
     "iopub.execute_input": "2023-06-01T11:11:15.188235Z",
     "iopub.status.busy": "2023-06-01T11:11:15.187598Z",
     "iopub.status.idle": "2023-06-01T11:11:20.761731Z",
     "shell.execute_reply": "2023-06-01T11:11:20.760252Z"
    },
    "papermill": {
     "duration": 5.585095,
     "end_time": "2023-06-01T11:11:20.764595",
     "exception": false,
     "start_time": "2023-06-01T11:11:15.179500",
     "status": "completed"
    },
    "tags": []
   },
   "outputs": [
    {
     "data": {
      "image/png": "[encoded data removed]",
      "text/plain": [
       "<Figure size 640x480 with 3 Axes>"
      ]
     },
     "metadata": {},
     "output_type": "display_data"
    }
   ],
   "source": [
    "fig, (ax1, ax2, ax3) = plt.subplots(1,3)\n",
    "ax1.imshow(arr_mask)\n",
    "ax2.imshow(inside_rect)\n",
    "ax3.imshow(outside_rect)\n",
    "plt.show()"
   ]
  },
  {
   "cell_type": "code",
   "execution_count": 10,
   "id": "f5cc2007",
   "metadata": {
    "execution": {
     "iopub.execute_input": "2023-06-01T11:11:20.781333Z",
     "iopub.status.busy": "2023-06-01T11:11:20.780853Z",
     "iopub.status.idle": "2023-06-01T11:11:20.790356Z",
     "shell.execute_reply": "2023-06-01T11:11:20.788997Z"
    },
    "papermill": {
     "duration": 0.021488,
     "end_time": "2023-06-01T11:11:20.793639",
     "exception": false,
     "start_time": "2023-06-01T11:11:20.772151",
     "status": "completed"
    },
    "tags": []
   },
   "outputs": [],
   "source": [
    "class SubVolumeDataSet(data.Dataset):\n",
    "    def __init__(self, image_stack, label, pixels):\n",
    "        self.image_stack = image_stack\n",
    "        self.label = label\n",
    "        self.pixels = pixels\n",
    "    def __len__(self):\n",
    "        return len(self.pixels)\n",
    "    def __getitem__(self, index):\n",
    "        y, x = self.pixels[index]\n",
    "        subvolume = self.image_stack[:, y-BUFFER:y+BUFFER+1, x-BUFFER:x+BUFFER+1].view(1, Z_DIM, 2*BUFFER+1, 2*BUFFER+1)\n",
    "        inklabel = self.label[y, x].view(1)\n",
    "        return subvolume, inklabel"
   ]
  },
  {
   "cell_type": "code",
   "execution_count": 11,
   "id": "a993292c",
   "metadata": {
    "execution": {
     "iopub.execute_input": "2023-06-01T11:11:20.811891Z",
     "iopub.status.busy": "2023-06-01T11:11:20.810850Z",
     "iopub.status.idle": "2023-06-01T11:11:20.825123Z",
     "shell.execute_reply": "2023-06-01T11:11:20.824030Z"
    },
    "papermill": {
     "duration": 0.02725,
     "end_time": "2023-06-01T11:11:20.828348",
     "exception": false,
     "start_time": "2023-06-01T11:11:20.801098",
     "status": "completed"
    },
    "tags": []
   },
   "outputs": [],
   "source": [
    "class CNNModel(pl.LightningModule):\n",
    "    def __init__(self):\n",
    "        super().__init__()\n",
    "        self.model = nn.Sequential(\n",
    "            nn.Conv3d(1, 16, 3, 1, 1), nn.MaxPool3d(2, 2),\n",
    "            nn.Conv3d(16, 32, 3, 1, 1), nn.MaxPool3d(2, 2),\n",
    "            nn.Conv3d(32, 64, 3, 1, 1), nn.MaxPool3d(2, 2),\n",
    "            nn.Flatten(start_dim=1),\n",
    "            nn.LazyLinear(128), nn.ReLU(),\n",
    "            nn.LazyLinear(1), nn.Sigmoid()\n",
    "        )\n",
    "        self.loss_fn = nn.BCELoss()\n",
    "        \n",
    "    def forward(self, x):\n",
    "        return self.model(x)\n",
    "    \n",
    "    def training_step(self, batch, batch_idx):\n",
    "        subvolumes, inklabels = batch\n",
    "        loss = self.loss_fn(self.forward(subvolumes), inklabels)\n",
    "        self.log('train_loss', loss)\n",
    "        return loss\n",
    "    \n",
    "    def predict_step(self, batch, batch_idx):\n",
    "        subvolumes, _ = batch\n",
    "        predictions = self.forward(subvolumes)\n",
    "        return predictions\n",
    "        \n",
    "    def configure_optimizers(self):\n",
    "        optimizer = optim.SGD(self.parameters(), lr=LEARNING_RATE)\n",
    "        scheduler = torch.optim.lr_scheduler.OneCycleLR(optimizer, max_lr=LEARNING_RATE, total_steps=TRAINING_STEPS)\n",
    "        return {\n",
    "            'optimizer': optimizer,\n",
    "            'lr_scheduler': {\n",
    "                'scheduler': scheduler,\n",
    "                'interval': 'step'\n",
    "            }\n",
    "        }\n",
    "    "
   ]
  },
  {
   "cell_type": "code",
   "execution_count": 12,
   "id": "84ff138b",
   "metadata": {
    "execution": {
     "iopub.execute_input": "2023-06-01T11:11:20.846367Z",
     "iopub.status.busy": "2023-06-01T11:11:20.845660Z",
     "iopub.status.idle": "2023-06-01T11:11:20.852019Z",
     "shell.execute_reply": "2023-06-01T11:11:20.850593Z"
    },
    "papermill": {
     "duration": 0.019711,
     "end_time": "2023-06-01T11:11:20.855364",
     "exception": false,
     "start_time": "2023-06-01T11:11:20.835653",
     "status": "completed"
    },
    "tags": []
   },
   "outputs": [],
   "source": [
    "# class DataModule(pl.LightningDataModule):\n",
    "#     def __init__(self):\n",
    "#         super().__init__()\n",
    "#         self.batch_size = 32\n",
    "\n",
    "#         self.train_data = SubVolumeDataSet(image_stack, label, pixels_outside_rect)\n",
    "#         self.val_data = SubVolumeDataSet(image_stack, label, pixels_inside_rect)\n",
    "\n",
    "#     def train_dataloader(self):\n",
    "#         return data.DataLoader(self.train_data, batch_size=self.batch_size, shuffle=True, num_workers=4)\n",
    "#     def val_dataloader(self):\n",
    "#         return data.DataLoader(self.val_data, batch_size=self.batch_size, shuffle=False, num_workers=4)"
   ]
  },
  {
   "cell_type": "code",
   "execution_count": 13,
   "id": "18ccbfcf",
   "metadata": {
    "execution": {
     "iopub.execute_input": "2023-06-01T11:11:20.872876Z",
     "iopub.status.busy": "2023-06-01T11:11:20.872432Z",
     "iopub.status.idle": "2023-06-01T11:11:20.877311Z",
     "shell.execute_reply": "2023-06-01T11:11:20.875943Z"
    },
    "papermill": {
     "duration": 0.016874,
     "end_time": "2023-06-01T11:11:20.879984",
     "exception": false,
     "start_time": "2023-06-01T11:11:20.863110",
     "status": "completed"
    },
    "tags": []
   },
   "outputs": [],
   "source": [
    "# checkpoint_callback = pl.callbacks.ModelCheckpoint(\n",
    "#     monitor=\"val_acc_epoch\",\n",
    "#     save_top_k=3,\n",
    "#     mode=\"max\"\n",
    "# )"
   ]
  },
  {
   "cell_type": "code",
   "execution_count": 14,
   "id": "83543c1d",
   "metadata": {
    "execution": {
     "iopub.execute_input": "2023-06-01T11:11:20.897040Z",
     "iopub.status.busy": "2023-06-01T11:11:20.896589Z",
     "iopub.status.idle": "2023-06-01T15:37:05.724596Z",
     "shell.execute_reply": "2023-06-01T15:37:05.723175Z"
    },
    "papermill": {
     "duration": 15944.840664,
     "end_time": "2023-06-01T15:37:05.728032",
     "exception": false,
     "start_time": "2023-06-01T11:11:20.887368",
     "status": "completed"
    },
    "tags": []
   },
   "outputs": [
    {
     "name": "stderr",
     "output_type": "stream",
     "text": [
      "/opt/conda/lib/python3.10/site-packages/torch/nn/modules/lazy.py:180: UserWarning: Lazy modules are a new feature under heavy development so changes to the API or functionality can happen at any moment.\n",
      "  warnings.warn('Lazy modules are a new feature under heavy development '\n",
      "/opt/conda/lib/python3.10/site-packages/pytorch_lightning/utilities/model_summary/model_summary.py:411: UserWarning: A layer with UninitializedParameter was found. Thus, the total number of parameters detected may be inaccurate.\n",
      "  warning_cache.warn(\n"
     ]
    },
    {
     "data": {
      "application/vnd.jupyter.widget-view+json": {
       "model_id": "e457b888a2764034b15efccaf1bcffef",
       "version_major": 2,
       "version_minor": 0
      },
      "text/plain": [
       "Training: 0it [00:00, ?it/s]"
      ]
     },
     "metadata": {},
     "output_type": "display_data"
    },
    {
     "name": "stderr",
     "output_type": "stream",
     "text": [
      "/opt/conda/lib/python3.10/site-packages/pytorch_lightning/trainer/connectors/checkpoint_connector.py:148: UserWarning: `.predict(ckpt_path=None)` was called without a model. The best model of the previous `fit` call will be used. You can pass `.predict(ckpt_path='best')` to use the best model or `.predict(ckpt_path='last')` to use the last model. If you pass a value, this warning will be silenced.\n",
      "  rank_zero_warn(\n"
     ]
    },
    {
     "data": {
      "application/vnd.jupyter.widget-view+json": {
       "model_id": "16c77582f62747c7a0223d7faba95d54",
       "version_major": 2,
       "version_minor": 0
      },
      "text/plain": [
       "Predicting: 0it [00:00, ?it/s]"
      ]
     },
     "metadata": {},
     "output_type": "display_data"
    }
   ],
   "source": [
    "model = CNNModel()\n",
    "\n",
    "train_data = SubVolumeDataSet(image_stack, label, pixels_outside_rect)\n",
    "train_dataloader = data.DataLoader(train_data, batch_size=BATCH_SIZE, shuffle=True, num_workers=4)\n",
    "predict_data = SubVolumeDataSet(image_stack, label, pixels_inside_rect)\n",
    "predict_dataloader = data.DataLoader(predict_data, batch_size=BATCH_SIZE, shuffle=False, num_workers=4)\n",
    "\n",
    "trainer = pl.Trainer(\n",
    "    callbacks=[TQDMProgressBar(refresh_rate=10)],\n",
    "    max_time=\"00:03:00:00\",\n",
    "    max_steps=TRAINING_STEPS\n",
    ")\n",
    "trainer.fit(model, train_dataloaders=train_dataloader)\n",
    "predictions = trainer.predict(dataloaders=predict_dataloader)"
   ]
  },
  {
   "cell_type": "code",
   "execution_count": 15,
   "id": "76fffbfa",
   "metadata": {
    "execution": {
     "iopub.execute_input": "2023-06-01T15:37:05.749765Z",
     "iopub.status.busy": "2023-06-01T15:37:05.749226Z",
     "iopub.status.idle": "2023-06-01T15:37:15.413997Z",
     "shell.execute_reply": "2023-06-01T15:37:15.412700Z"
    },
    "papermill": {
     "duration": 9.678227,
     "end_time": "2023-06-01T15:37:15.416753",
     "exception": false,
     "start_time": "2023-06-01T15:37:05.738526",
     "status": "completed"
    },
    "tags": []
   },
   "outputs": [],
   "source": [
    "output = torch.zeros_like(label).float()\n",
    "for i, data in enumerate(predictions):\n",
    "    for j, value in enumerate(data):\n",
    "        output[tuple(pixels_inside_rect[i*BATCH_SIZE+j])] = value"
   ]
  },
  {
   "cell_type": "code",
   "execution_count": 16,
   "id": "77d8bba0",
   "metadata": {
    "execution": {
     "iopub.execute_input": "2023-06-01T15:37:15.433858Z",
     "iopub.status.busy": "2023-06-01T15:37:15.433448Z",
     "iopub.status.idle": "2023-06-01T15:37:20.032129Z",
     "shell.execute_reply": "2023-06-01T15:37:20.030844Z"
    },
    "papermill": {
     "duration": 4.610617,
     "end_time": "2023-06-01T15:37:20.035101",
     "exception": false,
     "start_time": "2023-06-01T15:37:15.424484",
     "status": "completed"
    },
    "tags": []
   },
   "outputs": [
    {
     "data": {
      "image/png": "[encoded data removed]",
      "text/plain": [
       "<Figure size 640x480 with 2 Axes>"
      ]
     },
     "metadata": {},
     "output_type": "display_data"
    }
   ],
   "source": [
    "fig, (ax1, ax2) = plt.subplots(1, 2)\n",
    "ax1.imshow(output.cpu(), cmap='gray')\n",
    "ax2.imshow(label.cpu(), cmap='gray')\n",
    "plt.show()"
   ]
  },
  {
   "cell_type": "code",
   "execution_count": 17,
   "id": "24c3b323",
   "metadata": {
    "execution": {
     "iopub.execute_input": "2023-06-01T15:37:20.053590Z",
     "iopub.status.busy": "2023-06-01T15:37:20.053159Z",
     "iopub.status.idle": "2023-06-01T15:37:23.634987Z",
     "shell.execute_reply": "2023-06-01T15:37:23.633342Z"
    },
    "papermill": {
     "duration": 3.594158,
     "end_time": "2023-06-01T15:37:23.637760",
     "exception": false,
     "start_time": "2023-06-01T15:37:20.043602",
     "status": "completed"
    },
    "tags": []
   },
   "outputs": [
    {
     "data": {
      "image/png": "[encoded data removed]",
      "text/plain": [
       "<Figure size 640x480 with 2 Axes>"
      ]
     },
     "metadata": {},
     "output_type": "display_data"
    }
   ],
   "source": [
    "THRESHOLD = 0.4\n",
    "fig, (ax1, ax2) = plt.subplots(1, 2)\n",
    "ax1.imshow(output.gt(THRESHOLD).cpu(), cmap='gray')\n",
    "ax2.imshow(label.cpu(), cmap='gray')\n",
    "plt.show()"
   ]
  },
  {
   "cell_type": "code",
   "execution_count": 18,
   "id": "864d2ae7",
   "metadata": {
    "execution": {
     "iopub.execute_input": "2023-06-01T15:37:23.657790Z",
     "iopub.status.busy": "2023-06-01T15:37:23.657327Z",
     "iopub.status.idle": "2023-06-01T15:37:24.323955Z",
     "shell.execute_reply": "2023-06-01T15:37:24.323000Z"
    },
    "papermill": {
     "duration": 0.679648,
     "end_time": "2023-06-01T15:37:24.326545",
     "exception": false,
     "start_time": "2023-06-01T15:37:23.646897",
     "status": "completed"
    },
    "tags": []
   },
   "outputs": [],
   "source": [
    "def rle(output):\n",
    "    pixels = np.where(output.flatten().cpu() > THRESHOLD, 1, 0).astype(np.uint8)\n",
    "    pixels[0] = 0\n",
    "    pixels[-1] = 0\n",
    "    runs = np.where(pixels[1:] != pixels[:-1])[0] + 2\n",
    "    runs[1::2] = runs[1::2] - runs[:-1:2]\n",
    "    return ' '.join(str(x) for x in runs)\n",
    "\n",
    "rle_output = rle(output)\n",
    "print(\"Id,Predicted\\na,\" + rle_output + \"\\nb,\" + rle_output, file=open('submission.csv', 'w'))"
   ]
  }
 ],
 "metadata": {
  "kernelspec": {
   "display_name": "Python 3",
   "language": "python",
   "name": "python3"
  },
  "language_info": {
   "codemirror_mode": {
    "name": "ipython",
    "version": 3
   },
   "file_extension": ".py",
   "mimetype": "text/x-python",
   "name": "python",
   "nbconvert_exporter": "python",
   "pygments_lexer": "ipython3",
   "version": "3.10.10"
  },
  "papermill": {
   "default_parameters": {},
   "duration": 16031.352606,
   "end_time": "2023-06-01T15:37:27.445222",
   "environment_variables": {},
   "exception": null,
   "input_path": "__notebook__.ipynb",
   "output_path": "__notebook__.ipynb",
   "parameters": {},
   "start_time": "2023-06-01T11:10:16.092616",
   "version": "2.4.0"
  },
  "widgets": {
   "application/vnd.jupyter.widget-state+json": {
    "state": {
     "0f3534dd810c414c8facda7ba5ed81d6": {
      "model_module": "@jupyter-widgets/base",
      "model_module_version": "1.2.0",
      "model_name": "LayoutModel",
      "state": {
       "_model_module": "@jupyter-widgets/base",
       "_model_module_version": "1.2.0",
       "_model_name": "LayoutModel",
       "_view_count": null,
       "_view_module": "@jupyter-widgets/base",
       "_view_module_version": "1.2.0",
       "_view_name": "LayoutView",
       "align_content": null,
       "align_items": null,
       "align_self": null,
       "border": null,
       "bottom": null,
       "display": null,
       "flex": "2",
       "flex_flow": null,
       "grid_area": null,
       "grid_auto_columns": null,
       "grid_auto_flow": null,
       "grid_auto_rows": null,
       "grid_column": null,
       "grid_gap": null,
       "grid_row": null,
       "grid_template_areas": null,
       "grid_template_columns": null,
       "grid_template_rows": null,
       "height": null,
       "justify_content": null,
       "justify_items": null,
       "left": null,
       "margin": null,
       "max_height": null,
       "max_width": null,
       "min_height": null,
       "min_width": null,
       "object_fit": null,
       "object_position": null,
       "order": null,
       "overflow": null,
       "overflow_x": null,
       "overflow_y": null,
       "padding": null,
       "right": null,
       "top": null,
       "visibility": null,
       "width": null
      }
     },
     "1599e001622242e9bdfa6153c51689d1": {
      "model_module": "@jupyter-widgets/controls",
      "model_module_version": "1.5.0",
      "model_name": "FloatProgressModel",
      "state": {
       "_dom_classes": [],
       "_model_module": "@jupyter-widgets/controls",
       "_model_module_version": "1.5.0",
       "_model_name": "FloatProgressModel",
       "_view_count": null,
       "_view_module": "@jupyter-widgets/controls",
       "_view_module_version": "1.5.0",
       "_view_name": "ProgressView",
       "bar_style": "danger",
       "description": "",
       "description_tooltip": null,
       "layout": "IPY_MODEL_0f3534dd810c414c8facda7ba5ed81d6",
       "max": 889697.0,
       "min": 0.0,
       "orientation": "horizontal",
       "style": "IPY_MODEL_7037590cbd4b460089c128ed8f9e4e86",
       "value": 19100.0
      }
     },
     "16c77582f62747c7a0223d7faba95d54": {
      "model_module": "@jupyter-widgets/controls",
      "model_module_version": "1.5.0",
      "model_name": "HBoxModel",
      "state": {
       "_dom_classes": [],
       "_model_module": "@jupyter-widgets/controls",
       "_model_module_version": "1.5.0",
       "_model_name": "HBoxModel",
       "_view_count": null,
       "_view_module": "@jupyter-widgets/controls",
       "_view_module_version": "1.5.0",
       "_view_name": "HBoxView",
       "box_style": "",
       "children": [
        "IPY_MODEL_32c307d4c936497fa84f92cc10102c1a",
        "IPY_MODEL_d31ba6ef64dc4408874e5c352d3f3e3e",
        "IPY_MODEL_b259474836db4849a14b961418955701"
       ],
       "layout": "IPY_MODEL_d0a8206a5f0e49aab1a6969ef74c1ed7"
      }
     },
     "2ee21a1fef6741d69e658011c140c475": {
      "model_module": "@jupyter-widgets/base",
      "model_module_version": "1.2.0",
      "model_name": "LayoutModel",
      "state": {
       "_model_module": "@jupyter-widgets/base",
       "_model_module_version": "1.2.0",
       "_model_name": "LayoutModel",
       "_view_count": null,
       "_view_module": "@jupyter-widgets/base",
       "_view_module_version": "1.2.0",
       "_view_name": "LayoutView",
       "align_content": null,
       "align_items": null,
       "align_self": null,
       "border": null,
       "bottom": null,
       "display": null,
       "flex": null,
       "flex_flow": null,
       "grid_area": null,
       "grid_auto_columns": null,
       "grid_auto_flow": null,
       "grid_auto_rows": null,
       "grid_column": null,
       "grid_gap": null,
       "grid_row": null,
       "grid_template_areas": null,
       "grid_template_columns": null,
       "grid_template_rows": null,
       "height": null,
       "justify_content": null,
       "justify_items": null,
       "left": null,
       "margin": null,
       "max_height": null,
       "max_width": null,
       "min_height": null,
       "min_width": null,
       "object_fit": null,
       "object_position": null,
       "order": null,
       "overflow": null,
       "overflow_x": null,
       "overflow_y": null,
       "padding": null,
       "right": null,
       "top": null,
       "visibility": null,
       "width": null
      }
     },
     "32c307d4c936497fa84f92cc10102c1a": {
      "model_module": "@jupyter-widgets/controls",
      "model_module_version": "1.5.0",
      "model_name": "HTMLModel",
      "state": {
       "_dom_classes": [],
       "_model_module": "@jupyter-widgets/controls",
       "_model_module_version": "1.5.0",
       "_model_name": "HTMLModel",
       "_view_count": null,
       "_view_module": "@jupyter-widgets/controls",
       "_view_module_version": "1.5.0",
       "_view_name": "HTMLView",
       "description": "",
       "description_tooltip": null,
       "layout": "IPY_MODEL_7cc9a574766d42fba9d50906eb3232cb",
       "placeholder": "​",
       "style": "IPY_MODEL_8e835a0ef8ac48b4a7b6f7aa67f19ede",
       "value": "Predicting DataLoader 0: 100%"
      }
     },
     "348a1aee52154b8698d75b17cf28aef5": {
      "model_module": "@jupyter-widgets/base",
      "model_module_version": "1.2.0",
      "model_name": "LayoutModel",
      "state": {
       "_model_module": "@jupyter-widgets/base",
       "_model_module_version": "1.2.0",
       "_model_name": "LayoutModel",
       "_view_count": null,
       "_view_module": "@jupyter-widgets/base",
       "_view_module_version": "1.2.0",
       "_view_name": "LayoutView",
       "align_content": null,
       "align_items": null,
       "align_self": null,
       "border": null,
       "bottom": null,
       "display": null,
       "flex": null,
       "flex_flow": null,
       "grid_area": null,
       "grid_auto_columns": null,
       "grid_auto_flow": null,
       "grid_auto_rows": null,
       "grid_column": null,
       "grid_gap": null,
       "grid_row": null,
       "grid_template_areas": null,
       "grid_template_columns": null,
       "grid_template_rows": null,
       "height": null,
       "justify_content": null,
       "justify_items": null,
       "left": null,
       "margin": null,
       "max_height": null,
       "max_width": null,
       "min_height": null,
       "min_width": null,
       "object_fit": null,
       "object_position": null,
       "order": null,
       "overflow": null,
       "overflow_x": null,
       "overflow_y": null,
       "padding": null,
       "right": null,
       "top": null,
       "visibility": null,
       "width": null
      }
     },
     "505683b9a94b4dedaaacfea0fddf9238": {
      "model_module": "@jupyter-widgets/controls",
      "model_module_version": "1.5.0",
      "model_name": "DescriptionStyleModel",
      "state": {
       "_model_module": "@jupyter-widgets/controls",
       "_model_module_version": "1.5.0",
       "_model_name": "DescriptionStyleModel",
       "_view_count": null,
       "_view_module": "@jupyter-widgets/base",
       "_view_module_version": "1.2.0",
       "_view_name": "StyleView",
       "description_width": ""
      }
     },
     "5f625d2126784527a19c8e712aa4d02f": {
      "model_module": "@jupyter-widgets/controls",
      "model_module_version": "1.5.0",
      "model_name": "HTMLModel",
      "state": {
       "_dom_classes": [],
       "_model_module": "@jupyter-widgets/controls",
       "_model_module_version": "1.5.0",
       "_model_name": "HTMLModel",
       "_view_count": null,
       "_view_module": "@jupyter-widgets/controls",
       "_view_module_version": "1.5.0",
       "_view_name": "HTMLView",
       "description": "",
       "description_tooltip": null,
       "layout": "IPY_MODEL_348a1aee52154b8698d75b17cf28aef5",
       "placeholder": "​",
       "style": "IPY_MODEL_505683b9a94b4dedaaacfea0fddf9238",
       "value": " 19100/889697 [3:00:00&lt;136:44:40,  1.77it/s, v_num=0]"
      }
     },
     "6491c810a27e463eaaca7131c3fbac2e": {
      "model_module": "@jupyter-widgets/base",
      "model_module_version": "1.2.0",
      "model_name": "LayoutModel",
      "state": {
       "_model_module": "@jupyter-widgets/base",
       "_model_module_version": "1.2.0",
       "_model_name": "LayoutModel",
       "_view_count": null,
       "_view_module": "@jupyter-widgets/base",
       "_view_module_version": "1.2.0",
       "_view_name": "LayoutView",
       "align_content": null,
       "align_items": null,
       "align_self": null,
       "border": null,
       "bottom": null,
       "display": "inline-flex",
       "flex": null,
       "flex_flow": "row wrap",
       "grid_area": null,
       "grid_auto_columns": null,
       "grid_auto_flow": null,
       "grid_auto_rows": null,
       "grid_column": null,
       "grid_gap": null,
       "grid_row": null,
       "grid_template_areas": null,
       "grid_template_columns": null,
       "grid_template_rows": null,
       "height": null,
       "justify_content": null,
       "justify_items": null,
       "left": null,
       "margin": null,
       "max_height": null,
       "max_width": null,
       "min_height": null,
       "min_width": null,
       "object_fit": null,
       "object_position": null,
       "order": null,
       "overflow": null,
       "overflow_x": null,
       "overflow_y": null,
       "padding": null,
       "right": null,
       "top": null,
       "visibility": null,
       "width": "100%"
      }
     },
     "7037590cbd4b460089c128ed8f9e4e86": {
      "model_module": "@jupyter-widgets/controls",
      "model_module_version": "1.5.0",
      "model_name": "ProgressStyleModel",
      "state": {
       "_model_module": "@jupyter-widgets/controls",
       "_model_module_version": "1.5.0",
       "_model_name": "ProgressStyleModel",
       "_view_count": null,
       "_view_module": "@jupyter-widgets/base",
       "_view_module_version": "1.2.0",
       "_view_name": "StyleView",
       "bar_color": null,
       "description_width": ""
      }
     },
     "7cc9a574766d42fba9d50906eb3232cb": {
      "model_module": "@jupyter-widgets/base",
      "model_module_version": "1.2.0",
      "model_name": "LayoutModel",
      "state": {
       "_model_module": "@jupyter-widgets/base",
       "_model_module_version": "1.2.0",
       "_model_name": "LayoutModel",
       "_view_count": null,
       "_view_module": "@jupyter-widgets/base",
       "_view_module_version": "1.2.0",
       "_view_name": "LayoutView",
       "align_content": null,
       "align_items": null,
       "align_self": null,
       "border": null,
       "bottom": null,
       "display": null,
       "flex": null,
       "flex_flow": null,
       "grid_area": null,
       "grid_auto_columns": null,
       "grid_auto_flow": null,
       "grid_auto_rows": null,
       "grid_column": null,
       "grid_gap": null,
       "grid_row": null,
       "grid_template_areas": null,
       "grid_template_columns": null,
       "grid_template_rows": null,
       "height": null,
       "justify_content": null,
       "justify_items": null,
       "left": null,
       "margin": null,
       "max_height": null,
       "max_width": null,
       "min_height": null,
       "min_width": null,
       "object_fit": null,
       "object_position": null,
       "order": null,
       "overflow": null,
       "overflow_x": null,
       "overflow_y": null,
       "padding": null,
       "right": null,
       "top": null,
       "visibility": null,
       "width": null
      }
     },
     "8e835a0ef8ac48b4a7b6f7aa67f19ede": {
      "model_module": "@jupyter-widgets/controls",
      "model_module_version": "1.5.0",
      "model_name": "DescriptionStyleModel",
      "state": {
       "_model_module": "@jupyter-widgets/controls",
       "_model_module_version": "1.5.0",
       "_model_name": "DescriptionStyleModel",
       "_view_count": null,
       "_view_module": "@jupyter-widgets/base",
       "_view_module_version": "1.2.0",
       "_view_name": "StyleView",
       "description_width": ""
      }
     },
     "951977b3ac0d45f9b83204ced40a6bc1": {
      "model_module": "@jupyter-widgets/base",
      "model_module_version": "1.2.0",
      "model_name": "LayoutModel",
      "state": {
       "_model_module": "@jupyter-widgets/base",
       "_model_module_version": "1.2.0",
       "_model_name": "LayoutModel",
       "_view_count": null,
       "_view_module": "@jupyter-widgets/base",
       "_view_module_version": "1.2.0",
       "_view_name": "LayoutView",
       "align_content": null,
       "align_items": null,
       "align_self": null,
       "border": null,
       "bottom": null,
       "display": null,
       "flex": "2",
       "flex_flow": null,
       "grid_area": null,
       "grid_auto_columns": null,
       "grid_auto_flow": null,
       "grid_auto_rows": null,
       "grid_column": null,
       "grid_gap": null,
       "grid_row": null,
       "grid_template_areas": null,
       "grid_template_columns": null,
       "grid_template_rows": null,
       "height": null,
       "justify_content": null,
       "justify_items": null,
       "left": null,
       "margin": null,
       "max_height": null,
       "max_width": null,
       "min_height": null,
       "min_width": null,
       "object_fit": null,
       "object_position": null,
       "order": null,
       "overflow": null,
       "overflow_x": null,
       "overflow_y": null,
       "padding": null,
       "right": null,
       "top": null,
       "visibility": null,
       "width": null
      }
     },
     "a15d3227a3274378be1198617dbeaa5b": {
      "model_module": "@jupyter-widgets/controls",
      "model_module_version": "1.5.0",
      "model_name": "DescriptionStyleModel",
      "state": {
       "_model_module": "@jupyter-widgets/controls",
       "_model_module_version": "1.5.0",
       "_model_name": "DescriptionStyleModel",
       "_view_count": null,
       "_view_module": "@jupyter-widgets/base",
       "_view_module_version": "1.2.0",
       "_view_name": "StyleView",
       "description_width": ""
      }
     },
     "b259474836db4849a14b961418955701": {
      "model_module": "@jupyter-widgets/controls",
      "model_module_version": "1.5.0",
      "model_name": "HTMLModel",
      "state": {
       "_dom_classes": [],
       "_model_module": "@jupyter-widgets/controls",
       "_model_module_version": "1.5.0",
       "_model_name": "HTMLModel",
       "_view_count": null,
       "_view_module": "@jupyter-widgets/controls",
       "_view_module_version": "1.5.0",
       "_view_name": "HTMLView",
       "description": "",
       "description_tooltip": null,
       "layout": "IPY_MODEL_2ee21a1fef6741d69e658011c140c475",
       "placeholder": "​",
       "style": "IPY_MODEL_f6a45a4e2a234759a3406cf76e1ef21c",
       "value": " 20833/20833 [1:25:33&lt;00:00,  4.06it/s]"
      }
     },
     "baa71aaa4ca348f8a9b7681637e73bc7": {
      "model_module": "@jupyter-widgets/base",
      "model_module_version": "1.2.0",
      "model_name": "LayoutModel",
      "state": {
       "_model_module": "@jupyter-widgets/base",
       "_model_module_version": "1.2.0",
       "_model_name": "LayoutModel",
       "_view_count": null,
       "_view_module": "@jupyter-widgets/base",
       "_view_module_version": "1.2.0",
       "_view_name": "LayoutView",
       "align_content": null,
       "align_items": null,
       "align_self": null,
       "border": null,
       "bottom": null,
       "display": null,
       "flex": null,
       "flex_flow": null,
       "grid_area": null,
       "grid_auto_columns": null,
       "grid_auto_flow": null,
       "grid_auto_rows": null,
       "grid_column": null,
       "grid_gap": null,
       "grid_row": null,
       "grid_template_areas": null,
       "grid_template_columns": null,
       "grid_template_rows": null,
       "height": null,
       "justify_content": null,
       "justify_items": null,
       "left": null,
       "margin": null,
       "max_height": null,
       "max_width": null,
       "min_height": null,
       "min_width": null,
       "object_fit": null,
       "object_position": null,
       "order": null,
       "overflow": null,
       "overflow_x": null,
       "overflow_y": null,
       "padding": null,
       "right": null,
       "top": null,
       "visibility": null,
       "width": null
      }
     },
     "d0a8206a5f0e49aab1a6969ef74c1ed7": {
      "model_module": "@jupyter-widgets/base",
      "model_module_version": "1.2.0",
      "model_name": "LayoutModel",
      "state": {
       "_model_module": "@jupyter-widgets/base",
       "_model_module_version": "1.2.0",
       "_model_name": "LayoutModel",
       "_view_count": null,
       "_view_module": "@jupyter-widgets/base",
       "_view_module_version": "1.2.0",
       "_view_name": "LayoutView",
       "align_content": null,
       "align_items": null,
       "align_self": null,
       "border": null,
       "bottom": null,
       "display": "inline-flex",
       "flex": null,
       "flex_flow": "row wrap",
       "grid_area": null,
       "grid_auto_columns": null,
       "grid_auto_flow": null,
       "grid_auto_rows": null,
       "grid_column": null,
       "grid_gap": null,
       "grid_row": null,
       "grid_template_areas": null,
       "grid_template_columns": null,
       "grid_template_rows": null,
       "height": null,
       "justify_content": null,
       "justify_items": null,
       "left": null,
       "margin": null,
       "max_height": null,
       "max_width": null,
       "min_height": null,
       "min_width": null,
       "object_fit": null,
       "object_position": null,
       "order": null,
       "overflow": null,
       "overflow_x": null,
       "overflow_y": null,
       "padding": null,
       "right": null,
       "top": null,
       "visibility": null,
       "width": "100%"
      }
     },
     "d31ba6ef64dc4408874e5c352d3f3e3e": {
      "model_module": "@jupyter-widgets/controls",
      "model_module_version": "1.5.0",
      "model_name": "FloatProgressModel",
      "state": {
       "_dom_classes": [],
       "_model_module": "@jupyter-widgets/controls",
       "_model_module_version": "1.5.0",
       "_model_name": "FloatProgressModel",
       "_view_count": null,
       "_view_module": "@jupyter-widgets/controls",
       "_view_module_version": "1.5.0",
       "_view_name": "ProgressView",
       "bar_style": "success",
       "description": "",
       "description_tooltip": null,
       "layout": "IPY_MODEL_951977b3ac0d45f9b83204ced40a6bc1",
       "max": 20833.0,
       "min": 0.0,
       "orientation": "horizontal",
       "style": "IPY_MODEL_e600bbff92624332b55e2344cf9a7c4f",
       "value": 20833.0
      }
     },
     "e457b888a2764034b15efccaf1bcffef": {
      "model_module": "@jupyter-widgets/controls",
      "model_module_version": "1.5.0",
      "model_name": "HBoxModel",
      "state": {
       "_dom_classes": [],
       "_model_module": "@jupyter-widgets/controls",
       "_model_module_version": "1.5.0",
       "_model_name": "HBoxModel",
       "_view_count": null,
       "_view_module": "@jupyter-widgets/controls",
       "_view_module_version": "1.5.0",
       "_view_name": "HBoxView",
       "box_style": "",
       "children": [
        "IPY_MODEL_ed9d71a621f04838a7995719a78c2f94",
        "IPY_MODEL_1599e001622242e9bdfa6153c51689d1",
        "IPY_MODEL_5f625d2126784527a19c8e712aa4d02f"
       ],
       "layout": "IPY_MODEL_6491c810a27e463eaaca7131c3fbac2e"
      }
     },
     "e600bbff92624332b55e2344cf9a7c4f": {
      "model_module": "@jupyter-widgets/controls",
      "model_module_version": "1.5.0",
      "model_name": "ProgressStyleModel",
      "state": {
       "_model_module": "@jupyter-widgets/controls",
       "_model_module_version": "1.5.0",
       "_model_name": "ProgressStyleModel",
       "_view_count": null,
       "_view_module": "@jupyter-widgets/base",
       "_view_module_version": "1.2.0",
       "_view_name": "StyleView",
       "bar_color": null,
       "description_width": ""
      }
     },
     "ed9d71a621f04838a7995719a78c2f94": {
      "model_module": "@jupyter-widgets/controls",
      "model_module_version": "1.5.0",
      "model_name": "HTMLModel",
      "state": {
       "_dom_classes": [],
       "_model_module": "@jupyter-widgets/controls",
       "_model_module_version": "1.5.0",
       "_model_name": "HTMLModel",
       "_view_count": null,
       "_view_module": "@jupyter-widgets/controls",
       "_view_module_version": "1.5.0",
       "_view_name": "HTMLView",
       "description": "",
       "description_tooltip": null,
       "layout": "IPY_MODEL_baa71aaa4ca348f8a9b7681637e73bc7",
       "placeholder": "​",
       "style": "IPY_MODEL_a15d3227a3274378be1198617dbeaa5b",
       "value": "Epoch 0:   2%"
      }
     },
     "f6a45a4e2a234759a3406cf76e1ef21c": {
      "model_module": "@jupyter-widgets/controls",
      "model_module_version": "1.5.0",
      "model_name": "DescriptionStyleModel",
      "state": {
       "_model_module": "@jupyter-widgets/controls",
       "_model_module_version": "1.5.0",
       "_model_name": "DescriptionStyleModel",
       "_view_count": null,
       "_view_module": "@jupyter-widgets/base",
       "_view_module_version": "1.2.0",
       "_view_name": "StyleView",
       "description_width": ""
      }
     }
    },
    "version_major": 2,
    "version_minor": 0
   }
  }
 },
 "nbformat": 4,
 "nbformat_minor": 5
}
