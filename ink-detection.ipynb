{
 "cells": [
  {
   "cell_type": "code",
   "execution_count": 1,
   "id": "e3ef1fc0",
   "metadata": {
    "execution": {
     "iopub.execute_input": "2023-05-30T07:20:54.386688Z",
     "iopub.status.busy": "2023-05-30T07:20:54.386311Z",
     "iopub.status.idle": "2023-05-30T07:20:57.894230Z",
     "shell.execute_reply": "2023-05-30T07:20:57.893081Z"
    },
    "papermill": {
     "duration": 3.516316,
     "end_time": "2023-05-30T07:20:57.896719",
     "exception": false,
     "start_time": "2023-05-30T07:20:54.380403",
     "status": "completed"
    },
    "tags": []
   },
   "outputs": [],
   "source": [
    "import matplotlib.pyplot as plt\n",
    "import matplotlib.patches as patches\n",
    "import PIL.Image as Image\n",
    "import numpy as np\n",
    "import torch\n",
    "import glob\n",
    "from tqdm import tqdm\n",
    "import torch\n",
    "import torch.utils.data as data\n",
    "import torch.nn as nn\n",
    "import torch.optim as optim\n",
    "import ipywidgets as widgets"
   ]
  },
  {
   "cell_type": "code",
   "execution_count": 2,
   "id": "06c4d8fa",
   "metadata": {
    "execution": {
     "iopub.execute_input": "2023-05-30T07:20:57.906582Z",
     "iopub.status.busy": "2023-05-30T07:20:57.906053Z",
     "iopub.status.idle": "2023-05-30T07:21:10.066616Z",
     "shell.execute_reply": "2023-05-30T07:21:10.065505Z"
    },
    "papermill": {
     "duration": 12.168162,
     "end_time": "2023-05-30T07:21:10.069284",
     "exception": false,
     "start_time": "2023-05-30T07:20:57.901122",
     "status": "completed"
    },
    "tags": []
   },
   "outputs": [
    {
     "name": "stderr",
     "output_type": "stream",
     "text": [
      "/opt/conda/lib/python3.10/site-packages/scipy/__init__.py:146: UserWarning: A NumPy version >=1.16.5 and <1.23.0 is required for this version of SciPy (detected version 1.23.5\n",
      "  warnings.warn(f\"A NumPy version >={np_minversion} and <{np_maxversion}\"\n"
     ]
    }
   ],
   "source": [
    "# !pip install pytorch-lightning\n",
    "import pytorch_lightning as pl\n",
    "from pytorch_lightning.callbacks import TQDMProgressBar\n",
    "\n",
    "PREFIX = '/kaggle/input/vesuvius-challenge-ink-detection'"
   ]
  },
  {
   "cell_type": "code",
   "execution_count": 3,
   "id": "71695581",
   "metadata": {
    "_kg_hide-input": true,
    "execution": {
     "iopub.execute_input": "2023-05-30T07:21:10.079435Z",
     "iopub.status.busy": "2023-05-30T07:21:10.079053Z",
     "iopub.status.idle": "2023-05-30T07:21:10.083358Z",
     "shell.execute_reply": "2023-05-30T07:21:10.082397Z"
    },
    "papermill": {
     "duration": 0.011178,
     "end_time": "2023-05-30T07:21:10.085007",
     "exception": false,
     "start_time": "2023-05-30T07:21:10.073829",
     "status": "completed"
    },
    "tags": []
   },
   "outputs": [],
   "source": [
    "# fig, (ax1, ax2, ax3) = plt.subplots(1, 3)\n",
    "# ax1.imshow(Image.open(PREFIX+'/train/1/mask.png'))\n",
    "# ax2.imshow(Image.open(PREFIX+'/train/1/inklabels.png'))\n",
    "# ax3.imshow(Image.open(PREFIX+'/train/1/ir.png'))\n",
    "# plt.show()"
   ]
  },
  {
   "cell_type": "code",
   "execution_count": 4,
   "id": "e680c407",
   "metadata": {
    "_kg_hide-input": true,
    "execution": {
     "iopub.execute_input": "2023-05-30T07:21:10.094766Z",
     "iopub.status.busy": "2023-05-30T07:21:10.094341Z",
     "iopub.status.idle": "2023-05-30T07:21:10.098505Z",
     "shell.execute_reply": "2023-05-30T07:21:10.097505Z"
    },
    "papermill": {
     "duration": 0.011249,
     "end_time": "2023-05-30T07:21:10.100269",
     "exception": false,
     "start_time": "2023-05-30T07:21:10.089020",
     "status": "completed"
    },
    "tags": []
   },
   "outputs": [],
   "source": [
    "# images = [Image.open(filename) for filename in tqdm(sorted(glob.glob(PREFIX+'/train/1/surface_volume/*.tif'))[0:5])]\n",
    "# fig, axes = plt.subplots(1, len(images))\n",
    "# for image, ax in zip(images, axes):\n",
    "#     ax.imshow(image)\n",
    "#     ax.set_xticks([])\n",
    "#     ax.set_yticks([])\n",
    "# plt.show()"
   ]
  },
  {
   "cell_type": "code",
   "execution_count": 5,
   "id": "12080b38",
   "metadata": {
    "_kg_hide-input": true,
    "execution": {
     "iopub.execute_input": "2023-05-30T07:21:10.111185Z",
     "iopub.status.busy": "2023-05-30T07:21:10.110550Z",
     "iopub.status.idle": "2023-05-30T07:21:10.114544Z",
     "shell.execute_reply": "2023-05-30T07:21:10.113544Z"
    },
    "papermill": {
     "duration": 0.011641,
     "end_time": "2023-05-30T07:21:10.116532",
     "exception": false,
     "start_time": "2023-05-30T07:21:10.104891",
     "status": "completed"
    },
    "tags": []
   },
   "outputs": [],
   "source": [
    "# rect = (1550, 3500, 900, 950)\n",
    "# fig, ax = plt.subplots()\n",
    "# label = np.array(Image.open(PREFIX+'/train/1/inklabels.png'))\n",
    "# ax.imshow(label)\n",
    "# patch = patches.Rectangle((rect[0], rect[1]), rect[2], rect[3], facecolor='none', linewidth=2, edgecolor='r')\n",
    "# ax.add_patch(patch)\n",
    "# plt.show()"
   ]
  },
  {
   "cell_type": "code",
   "execution_count": 6,
   "id": "0802680a",
   "metadata": {
    "execution": {
     "iopub.execute_input": "2023-05-30T07:21:10.127019Z",
     "iopub.status.busy": "2023-05-30T07:21:10.126368Z",
     "iopub.status.idle": "2023-05-30T07:21:10.131233Z",
     "shell.execute_reply": "2023-05-30T07:21:10.130084Z"
    },
    "papermill": {
     "duration": 0.012409,
     "end_time": "2023-05-30T07:21:10.133239",
     "exception": false,
     "start_time": "2023-05-30T07:21:10.120830",
     "status": "completed"
    },
    "tags": []
   },
   "outputs": [],
   "source": [
    "BUFFER = 30\n",
    "LEARNING_RATE = 0.03\n",
    "BATCH_SIZE = 32\n",
    "Z_START = 27\n",
    "Z_DIM = 10\n",
    "TRAINING_STEPS = 30000"
   ]
  },
  {
   "cell_type": "code",
   "execution_count": 7,
   "id": "a022b149",
   "metadata": {
    "execution": {
     "iopub.execute_input": "2023-05-30T07:21:10.142836Z",
     "iopub.status.busy": "2023-05-30T07:21:10.142504Z",
     "iopub.status.idle": "2023-05-30T07:21:26.969544Z",
     "shell.execute_reply": "2023-05-30T07:21:26.968619Z"
    },
    "papermill": {
     "duration": 16.834206,
     "end_time": "2023-05-30T07:21:26.971814",
     "exception": false,
     "start_time": "2023-05-30T07:21:10.137608",
     "status": "completed"
    },
    "tags": []
   },
   "outputs": [],
   "source": [
    "images = [np.array(Image.open(filename), dtype=np.float32)/65535.0 for filename in sorted(glob.glob(PREFIX+'/train/1/surface_volume/*.tif'))[Z_START:Z_START+Z_DIM]]\n",
    "image_stack = torch.stack([torch.from_numpy(image) for image in images], dim=0)\n",
    "\n",
    "label = torch.from_numpy(np.array(Image.open(PREFIX+'/train/1/inklabels.png'))).float()"
   ]
  },
  {
   "cell_type": "code",
   "execution_count": 8,
   "id": "f04771dd",
   "metadata": {
    "execution": {
     "iopub.execute_input": "2023-05-30T07:21:26.981667Z",
     "iopub.status.busy": "2023-05-30T07:21:26.981359Z",
     "iopub.status.idle": "2023-05-30T07:21:27.983126Z",
     "shell.execute_reply": "2023-05-30T07:21:27.982189Z"
    },
    "papermill": {
     "duration": 1.009049,
     "end_time": "2023-05-30T07:21:27.985247",
     "exception": false,
     "start_time": "2023-05-30T07:21:26.976198",
     "status": "completed"
    },
    "tags": []
   },
   "outputs": [],
   "source": [
    "rect = (1100, 3500, 700, 950)\n",
    "mask = np.array(Image.open(PREFIX+'/train/1/mask.png'), dtype=np.float32)\n",
    "not_border = np.zeros(mask.shape, dtype=np.bool_)\n",
    "not_border[BUFFER:mask.shape[0]-BUFFER, BUFFER:mask.shape[1]-BUFFER] = True\n",
    "\n",
    "arr_mask = np.array(mask) * not_border\n",
    "\n",
    "inside_rect = np.zeros(mask.shape, dtype=np.bool_)\n",
    "inside_rect[rect[1]:rect[1]+rect[3], rect[0]:rect[0]+rect[2]] = True\n",
    "\n",
    "outside_rect = np.ones(mask.shape, dtype=np.bool_) * arr_mask\n",
    "outside_rect[rect[1]:rect[1]+rect[3], rect[0]:rect[0]+rect[2]] = False\n",
    "\n",
    "pixels_inside_rect = np.argwhere(inside_rect)\n",
    "pixels_outside_rect = np.argwhere(outside_rect)"
   ]
  },
  {
   "cell_type": "code",
   "execution_count": 9,
   "id": "9e72d930",
   "metadata": {
    "execution": {
     "iopub.execute_input": "2023-05-30T07:21:27.995118Z",
     "iopub.status.busy": "2023-05-30T07:21:27.994783Z",
     "iopub.status.idle": "2023-05-30T07:21:30.249216Z",
     "shell.execute_reply": "2023-05-30T07:21:30.248021Z"
    },
    "papermill": {
     "duration": 2.261661,
     "end_time": "2023-05-30T07:21:30.251198",
     "exception": false,
     "start_time": "2023-05-30T07:21:27.989537",
     "status": "completed"
    },
    "tags": []
   },
   "outputs": [
    {
     "data": {
      "image/png": "[encoded data removed]",
      "text/plain": [
       "<Figure size 640x480 with 3 Axes>"
      ]
     },
     "metadata": {},
     "output_type": "display_data"
    }
   ],
   "source": [
    "fig, (ax1, ax2, ax3) = plt.subplots(1,3)\n",
    "ax1.imshow(arr_mask)\n",
    "ax2.imshow(inside_rect)\n",
    "ax3.imshow(outside_rect)\n",
    "plt.show()"
   ]
  },
  {
   "cell_type": "code",
   "execution_count": 10,
   "id": "e61398eb",
   "metadata": {
    "execution": {
     "iopub.execute_input": "2023-05-30T07:21:30.261471Z",
     "iopub.status.busy": "2023-05-30T07:21:30.261171Z",
     "iopub.status.idle": "2023-05-30T07:21:30.268141Z",
     "shell.execute_reply": "2023-05-30T07:21:30.267113Z"
    },
    "papermill": {
     "duration": 0.014226,
     "end_time": "2023-05-30T07:21:30.270010",
     "exception": false,
     "start_time": "2023-05-30T07:21:30.255784",
     "status": "completed"
    },
    "tags": []
   },
   "outputs": [],
   "source": [
    "class SubVolumeDataSet(data.Dataset):\n",
    "    def __init__(self, image_stack, label, pixels):\n",
    "        self.image_stack = image_stack\n",
    "        self.label = label\n",
    "        self.pixels = pixels\n",
    "    def __len__(self):\n",
    "        return len(self.pixels)\n",
    "    def __getitem__(self, index):\n",
    "        y, x = self.pixels[index]\n",
    "        subvolume = self.image_stack[:, y-BUFFER:y+BUFFER+1, x-BUFFER:x+BUFFER+1].view(1, Z_DIM, 2*BUFFER+1, 2*BUFFER+1)\n",
    "        inklabel = self.label[y, x].view(1)\n",
    "        return subvolume, inklabel"
   ]
  },
  {
   "cell_type": "code",
   "execution_count": 11,
   "id": "56010362",
   "metadata": {
    "execution": {
     "iopub.execute_input": "2023-05-30T07:21:30.280258Z",
     "iopub.status.busy": "2023-05-30T07:21:30.279898Z",
     "iopub.status.idle": "2023-05-30T07:21:30.289523Z",
     "shell.execute_reply": "2023-05-30T07:21:30.288688Z"
    },
    "papermill": {
     "duration": 0.016822,
     "end_time": "2023-05-30T07:21:30.291285",
     "exception": false,
     "start_time": "2023-05-30T07:21:30.274463",
     "status": "completed"
    },
    "tags": []
   },
   "outputs": [],
   "source": [
    "class CNNModel(pl.LightningModule):\n",
    "    def __init__(self):\n",
    "        super().__init__()\n",
    "        self.model = nn.Sequential(\n",
    "            nn.Conv3d(1, 16, 3, 1, 1), nn.MaxPool3d(2, 2),\n",
    "            nn.Conv3d(16, 32, 3, 1, 1), nn.MaxPool3d(2, 2),\n",
    "            nn.Conv3d(32, 64, 3, 1, 1), nn.MaxPool3d(2, 2),\n",
    "            nn.Flatten(start_dim=1),\n",
    "            nn.LazyLinear(128), nn.ReLU(),\n",
    "            nn.LazyLinear(1), nn.Sigmoid()\n",
    "        )\n",
    "        self.loss_fn = nn.BCELoss()\n",
    "        \n",
    "    def forward(self, x):\n",
    "        return self.model(x)\n",
    "    \n",
    "    def training_step(self, batch, batch_idx):\n",
    "        subvolumes, inklabels = batch\n",
    "        loss = self.loss_fn(self.forward(subvolumes), inklabels)\n",
    "        self.log('train_loss', loss)\n",
    "        return loss\n",
    "    \n",
    "    def predict_step(self, batch, batch_idx):\n",
    "        subvolumes, _ = batch\n",
    "        predictions = self.forward(subvolumes)\n",
    "        return predictions\n",
    "        \n",
    "    def configure_optimizers(self):\n",
    "        optimizer = optim.SGD(self.parameters(), lr=LEARNING_RATE)\n",
    "        scheduler = torch.optim.lr_scheduler.OneCycleLR(optimizer, max_lr=LEARNING_RATE, total_steps=TRAINING_STEPS)\n",
    "        return {\n",
    "            'optimizer': optimizer,\n",
    "            'lr_scheduler': {\n",
    "                'scheduler': scheduler,\n",
    "                'interval': 'step'\n",
    "            }\n",
    "        }\n",
    "    "
   ]
  },
  {
   "cell_type": "code",
   "execution_count": 12,
   "id": "898c9ba1",
   "metadata": {
    "execution": {
     "iopub.execute_input": "2023-05-30T07:21:30.301622Z",
     "iopub.status.busy": "2023-05-30T07:21:30.301248Z",
     "iopub.status.idle": "2023-05-30T07:21:30.306523Z",
     "shell.execute_reply": "2023-05-30T07:21:30.305350Z"
    },
    "papermill": {
     "duration": 0.012737,
     "end_time": "2023-05-30T07:21:30.308539",
     "exception": false,
     "start_time": "2023-05-30T07:21:30.295802",
     "status": "completed"
    },
    "tags": []
   },
   "outputs": [],
   "source": [
    "# class DataModule(pl.LightningDataModule):\n",
    "#     def __init__(self):\n",
    "#         super().__init__()\n",
    "#         self.batch_size = 32\n",
    "\n",
    "#         self.train_data = SubVolumeDataSet(image_stack, label, pixels_outside_rect)\n",
    "#         self.val_data = SubVolumeDataSet(image_stack, label, pixels_inside_rect)\n",
    "\n",
    "#     def train_dataloader(self):\n",
    "#         return data.DataLoader(self.train_data, batch_size=self.batch_size, shuffle=True, num_workers=4)\n",
    "#     def val_dataloader(self):\n",
    "#         return data.DataLoader(self.val_data, batch_size=self.batch_size, shuffle=False, num_workers=4)"
   ]
  },
  {
   "cell_type": "code",
   "execution_count": 13,
   "id": "edfd6470",
   "metadata": {
    "execution": {
     "iopub.execute_input": "2023-05-30T07:21:30.319337Z",
     "iopub.status.busy": "2023-05-30T07:21:30.319013Z",
     "iopub.status.idle": "2023-05-30T07:21:30.323583Z",
     "shell.execute_reply": "2023-05-30T07:21:30.322744Z"
    },
    "papermill": {
     "duration": 0.012074,
     "end_time": "2023-05-30T07:21:30.325452",
     "exception": false,
     "start_time": "2023-05-30T07:21:30.313378",
     "status": "completed"
    },
    "tags": []
   },
   "outputs": [],
   "source": [
    "# checkpoint_callback = pl.callbacks.ModelCheckpoint(\n",
    "#     monitor=\"val_acc_epoch\",\n",
    "#     save_top_k=3,\n",
    "#     mode=\"max\"\n",
    "# )"
   ]
  },
  {
   "cell_type": "code",
   "execution_count": 14,
   "id": "2825eb43",
   "metadata": {
    "execution": {
     "iopub.execute_input": "2023-05-30T07:21:30.337929Z",
     "iopub.status.busy": "2023-05-30T07:21:30.337598Z",
     "iopub.status.idle": "2023-05-30T11:20:58.807822Z",
     "shell.execute_reply": "2023-05-30T11:20:58.805820Z"
    },
    "papermill": {
     "duration": 14368.479052,
     "end_time": "2023-05-30T11:20:58.810736",
     "exception": false,
     "start_time": "2023-05-30T07:21:30.331684",
     "status": "completed"
    },
    "tags": []
   },
   "outputs": [
    {
     "name": "stderr",
     "output_type": "stream",
     "text": [
      "/opt/conda/lib/python3.10/site-packages/torch/nn/modules/lazy.py:180: UserWarning: Lazy modules are a new feature under heavy development so changes to the API or functionality can happen at any moment.\n",
      "  warnings.warn('Lazy modules are a new feature under heavy development '\n",
      "/opt/conda/lib/python3.10/site-packages/pytorch_lightning/utilities/model_summary/model_summary.py:411: UserWarning: A layer with UninitializedParameter was found. Thus, the total number of parameters detected may be inaccurate.\n",
      "  warning_cache.warn(\n"
     ]
    },
    {
     "data": {
      "application/vnd.jupyter.widget-view+json": {
       "model_id": "1a07951d9a7343d1936bb2085344a978",
       "version_major": 2,
       "version_minor": 0
      },
      "text/plain": [
       "Training: 0it [00:00, ?it/s]"
      ]
     },
     "metadata": {},
     "output_type": "display_data"
    },
    {
     "name": "stderr",
     "output_type": "stream",
     "text": [
      "/opt/conda/lib/python3.10/site-packages/pytorch_lightning/trainer/connectors/checkpoint_connector.py:148: UserWarning: `.predict(ckpt_path=None)` was called without a model. The best model of the previous `fit` call will be used. You can pass `.predict(ckpt_path='best')` to use the best model or `.predict(ckpt_path='last')` to use the last model. If you pass a value, this warning will be silenced.\n",
      "  rank_zero_warn(\n"
     ]
    },
    {
     "data": {
      "application/vnd.jupyter.widget-view+json": {
       "model_id": "616d057a401e40c39f5b2903a7618cc8",
       "version_major": 2,
       "version_minor": 0
      },
      "text/plain": [
       "Predicting: 0it [00:00, ?it/s]"
      ]
     },
     "metadata": {},
     "output_type": "display_data"
    }
   ],
   "source": [
    "model = CNNModel()\n",
    "\n",
    "train_data = SubVolumeDataSet(image_stack, label, pixels_outside_rect)\n",
    "train_dataloader = data.DataLoader(train_data, batch_size=BATCH_SIZE, shuffle=True, num_workers=4)\n",
    "predict_data = SubVolumeDataSet(image_stack, label, pixels_inside_rect)\n",
    "predict_dataloader = data.DataLoader(predict_data, batch_size=BATCH_SIZE, shuffle=False, num_workers=4)\n",
    "\n",
    "trainer = pl.Trainer(\n",
    "    callbacks=[TQDMProgressBar(refresh_rate=10)],\n",
    "    max_time=\"00:03:00:00\",\n",
    "    max_steps=TRAINING_STEPS\n",
    ")\n",
    "trainer.fit(model, train_dataloaders=train_dataloader)\n",
    "predictions = trainer.predict(dataloaders=predict_dataloader)"
   ]
  },
  {
   "cell_type": "code",
   "execution_count": 15,
   "id": "782d06a1",
   "metadata": {
    "execution": {
     "iopub.execute_input": "2023-05-30T11:20:58.823267Z",
     "iopub.status.busy": "2023-05-30T11:20:58.822873Z",
     "iopub.status.idle": "2023-05-30T11:21:03.825056Z",
     "shell.execute_reply": "2023-05-30T11:21:03.823814Z"
    },
    "papermill": {
     "duration": 5.01179,
     "end_time": "2023-05-30T11:21:03.827821",
     "exception": false,
     "start_time": "2023-05-30T11:20:58.816031",
     "status": "completed"
    },
    "tags": []
   },
   "outputs": [
    {
     "name": "stdout",
     "output_type": "stream",
     "text": [
      "20782 <class 'list'>\n"
     ]
    }
   ],
   "source": [
    "output = torch.zeros_like(label).float()\n",
    "print(len(predictions), type(predictions)) # (26721, 32) ? (26719, 32)?\n",
    "for i, data in enumerate(predictions):\n",
    "    for j, value in enumerate(data):\n",
    "        output[tuple(pixels_inside_rect[i*BATCH_SIZE+j])] = value"
   ]
  },
  {
   "cell_type": "code",
   "execution_count": 16,
   "id": "0063c90f",
   "metadata": {
    "execution": {
     "iopub.execute_input": "2023-05-30T11:21:03.841425Z",
     "iopub.status.busy": "2023-05-30T11:21:03.841011Z",
     "iopub.status.idle": "2023-05-30T11:21:07.787611Z",
     "shell.execute_reply": "2023-05-30T11:21:07.786126Z"
    },
    "papermill": {
     "duration": 3.956421,
     "end_time": "2023-05-30T11:21:07.790223",
     "exception": false,
     "start_time": "2023-05-30T11:21:03.833802",
     "status": "completed"
    },
    "tags": []
   },
   "outputs": [
    {
     "data": {
      "image/png": "[encoded data removed]",
      "text/plain": [
       "<Figure size 640x480 with 2 Axes>"
      ]
     },
     "metadata": {},
     "output_type": "display_data"
    }
   ],
   "source": [
    "fig, (ax1, ax2) = plt.subplots(1, 2)\n",
    "ax1.imshow(output.cpu(), cmap='gray')\n",
    "ax2.imshow(label.cpu(), cmap='gray')\n",
    "plt.show()"
   ]
  },
  {
   "cell_type": "code",
   "execution_count": 17,
   "id": "48468f31",
   "metadata": {
    "execution": {
     "iopub.execute_input": "2023-05-30T11:21:07.803812Z",
     "iopub.status.busy": "2023-05-30T11:21:07.803314Z",
     "iopub.status.idle": "2023-05-30T11:21:10.813355Z",
     "shell.execute_reply": "2023-05-30T11:21:10.812568Z"
    },
    "papermill": {
     "duration": 3.019556,
     "end_time": "2023-05-30T11:21:10.815718",
     "exception": false,
     "start_time": "2023-05-30T11:21:07.796162",
     "status": "completed"
    },
    "tags": []
   },
   "outputs": [
    {
     "data": {
      "image/png": "[encoded data removed]",
      "text/plain": [
       "<Figure size 640x480 with 2 Axes>"
      ]
     },
     "metadata": {},
     "output_type": "display_data"
    }
   ],
   "source": [
    "THRESHOLD = 0.4\n",
    "fig, (ax1, ax2) = plt.subplots(1, 2)\n",
    "ax1.imshow(output.gt(THRESHOLD).cpu(), cmap='gray')\n",
    "ax2.imshow(label.cpu(), cmap='gray')\n",
    "plt.show()"
   ]
  },
  {
   "cell_type": "code",
   "execution_count": 18,
   "id": "8bccf515",
   "metadata": {
    "execution": {
     "iopub.execute_input": "2023-05-30T11:21:10.831845Z",
     "iopub.status.busy": "2023-05-30T11:21:10.830163Z",
     "iopub.status.idle": "2023-05-30T11:21:11.201209Z",
     "shell.execute_reply": "2023-05-30T11:21:11.199540Z"
    },
    "papermill": {
     "duration": 0.381489,
     "end_time": "2023-05-30T11:21:11.203798",
     "exception": false,
     "start_time": "2023-05-30T11:21:10.822309",
     "status": "completed"
    },
    "tags": []
   },
   "outputs": [],
   "source": [
    "def rle(output):\n",
    "    pixels = np.where(output.flatten().cpu() > THRESHOLD, 1, 0).astype(np.uint8)\n",
    "    pixels[0] = 0\n",
    "    pixels[-1] = 0\n",
    "    runs = np.where(pixels[1:] != pixels[:-1])[0] + 2\n",
    "    runs[1::2] = runs[1::2] - runs[:-1:2]\n",
    "    return ' '.join(str(x) for x in runs)\n",
    "\n",
    "rle_output = rle(output)\n",
    "print(\"Id,Predicted\\na,\" + rle_output + \"\\nb,\" + rle_output, file=open('submission.csv', 'w'))"
   ]
  }
 ],
 "metadata": {
  "kernelspec": {
   "display_name": "Python 3",
   "language": "python",
   "name": "python3"
  },
  "language_info": {
   "codemirror_mode": {
    "name": "ipython",
    "version": 3
   },
   "file_extension": ".py",
   "mimetype": "text/x-python",
   "name": "python",
   "nbconvert_exporter": "python",
   "pygments_lexer": "ipython3",
   "version": "3.10.10"
  },
  "papermill": {
   "default_parameters": {},
   "duration": 14430.693039,
   "end_time": "2023-05-30T11:21:14.678425",
   "environment_variables": {},
   "exception": null,
   "input_path": "__notebook__.ipynb",
   "output_path": "__notebook__.ipynb",
   "parameters": {},
   "start_time": "2023-05-30T07:20:43.985386",
   "version": "2.4.0"
  },
  "widgets": {
   "application/vnd.jupyter.widget-state+json": {
    "state": {
     "14fe836d71ac4826bbfc54e026b177c8": {
      "model_module": "@jupyter-widgets/base",
      "model_module_version": "1.2.0",
      "model_name": "LayoutModel",
      "state": {
       "_model_module": "@jupyter-widgets/base",
       "_model_module_version": "1.2.0",
       "_model_name": "LayoutModel",
       "_view_count": null,
       "_view_module": "@jupyter-widgets/base",
       "_view_module_version": "1.2.0",
       "_view_name": "LayoutView",
       "align_content": null,
       "align_items": null,
       "align_self": null,
       "border": null,
       "bottom": null,
       "display": null,
       "flex": null,
       "flex_flow": null,
       "grid_area": null,
       "grid_auto_columns": null,
       "grid_auto_flow": null,
       "grid_auto_rows": null,
       "grid_column": null,
       "grid_gap": null,
       "grid_row": null,
       "grid_template_areas": null,
       "grid_template_columns": null,
       "grid_template_rows": null,
       "height": null,
       "justify_content": null,
       "justify_items": null,
       "left": null,
       "margin": null,
       "max_height": null,
       "max_width": null,
       "min_height": null,
       "min_width": null,
       "object_fit": null,
       "object_position": null,
       "order": null,
       "overflow": null,
       "overflow_x": null,
       "overflow_y": null,
       "padding": null,
       "right": null,
       "top": null,
       "visibility": null,
       "width": null
      }
     },
     "1a07951d9a7343d1936bb2085344a978": {
      "model_module": "@jupyter-widgets/controls",
      "model_module_version": "1.5.0",
      "model_name": "HBoxModel",
      "state": {
       "_dom_classes": [],
       "_model_module": "@jupyter-widgets/controls",
       "_model_module_version": "1.5.0",
       "_model_name": "HBoxModel",
       "_view_count": null,
       "_view_module": "@jupyter-widgets/controls",
       "_view_module_version": "1.5.0",
       "_view_name": "HBoxView",
       "box_style": "",
       "children": [
        "IPY_MODEL_cdbc5989539a4352a2a600c69c9243bc",
        "IPY_MODEL_9af3a70173474367a1ab5ec08a8e49bf",
        "IPY_MODEL_4e5af31b15894d74816cb09b76eaa599"
       ],
       "layout": "IPY_MODEL_a178c70ba16b4cafbac6b1cfc797e38c"
      }
     },
     "4e5af31b15894d74816cb09b76eaa599": {
      "model_module": "@jupyter-widgets/controls",
      "model_module_version": "1.5.0",
      "model_name": "HTMLModel",
      "state": {
       "_dom_classes": [],
       "_model_module": "@jupyter-widgets/controls",
       "_model_module_version": "1.5.0",
       "_model_name": "HTMLModel",
       "_view_count": null,
       "_view_module": "@jupyter-widgets/controls",
       "_view_module_version": "1.5.0",
       "_view_name": "HTMLView",
       "description": "",
       "description_tooltip": null,
       "layout": "IPY_MODEL_794bc726ed484bc19d0924a4d83a1649",
       "placeholder": "​",
       "style": "IPY_MODEL_b51f1e5153da43a9b85be8b135a3f84d",
       "value": " 29590/889748 [3:00:00&lt;87:12:36,  2.74it/s, v_num=0]"
      }
     },
     "5f31f4484c854143a8a68e34bd5e5b61": {
      "model_module": "@jupyter-widgets/base",
      "model_module_version": "1.2.0",
      "model_name": "LayoutModel",
      "state": {
       "_model_module": "@jupyter-widgets/base",
       "_model_module_version": "1.2.0",
       "_model_name": "LayoutModel",
       "_view_count": null,
       "_view_module": "@jupyter-widgets/base",
       "_view_module_version": "1.2.0",
       "_view_name": "LayoutView",
       "align_content": null,
       "align_items": null,
       "align_self": null,
       "border": null,
       "bottom": null,
       "display": null,
       "flex": "2",
       "flex_flow": null,
       "grid_area": null,
       "grid_auto_columns": null,
       "grid_auto_flow": null,
       "grid_auto_rows": null,
       "grid_column": null,
       "grid_gap": null,
       "grid_row": null,
       "grid_template_areas": null,
       "grid_template_columns": null,
       "grid_template_rows": null,
       "height": null,
       "justify_content": null,
       "justify_items": null,
       "left": null,
       "margin": null,
       "max_height": null,
       "max_width": null,
       "min_height": null,
       "min_width": null,
       "object_fit": null,
       "object_position": null,
       "order": null,
       "overflow": null,
       "overflow_x": null,
       "overflow_y": null,
       "padding": null,
       "right": null,
       "top": null,
       "visibility": null,
       "width": null
      }
     },
     "616d057a401e40c39f5b2903a7618cc8": {
      "model_module": "@jupyter-widgets/controls",
      "model_module_version": "1.5.0",
      "model_name": "HBoxModel",
      "state": {
       "_dom_classes": [],
       "_model_module": "@jupyter-widgets/controls",
       "_model_module_version": "1.5.0",
       "_model_name": "HBoxModel",
       "_view_count": null,
       "_view_module": "@jupyter-widgets/controls",
       "_view_module_version": "1.5.0",
       "_view_name": "HBoxView",
       "box_style": "",
       "children": [
        "IPY_MODEL_74902d0ca94f4b9a8c92790e6ad285bf",
        "IPY_MODEL_9f858adc63b4483e8aef06b29d3f9a75",
        "IPY_MODEL_d1ae853b29db43aa8dc23c846cb6dad3"
       ],
       "layout": "IPY_MODEL_6d74f76452f649158ad59d862c9b96b1"
      }
     },
     "64ee2eacda5a4619afea20bfdcdf154a": {
      "model_module": "@jupyter-widgets/controls",
      "model_module_version": "1.5.0",
      "model_name": "ProgressStyleModel",
      "state": {
       "_model_module": "@jupyter-widgets/controls",
       "_model_module_version": "1.5.0",
       "_model_name": "ProgressStyleModel",
       "_view_count": null,
       "_view_module": "@jupyter-widgets/base",
       "_view_module_version": "1.2.0",
       "_view_name": "StyleView",
       "bar_color": null,
       "description_width": ""
      }
     },
     "6d74f76452f649158ad59d862c9b96b1": {
      "model_module": "@jupyter-widgets/base",
      "model_module_version": "1.2.0",
      "model_name": "LayoutModel",
      "state": {
       "_model_module": "@jupyter-widgets/base",
       "_model_module_version": "1.2.0",
       "_model_name": "LayoutModel",
       "_view_count": null,
       "_view_module": "@jupyter-widgets/base",
       "_view_module_version": "1.2.0",
       "_view_name": "LayoutView",
       "align_content": null,
       "align_items": null,
       "align_self": null,
       "border": null,
       "bottom": null,
       "display": "inline-flex",
       "flex": null,
       "flex_flow": "row wrap",
       "grid_area": null,
       "grid_auto_columns": null,
       "grid_auto_flow": null,
       "grid_auto_rows": null,
       "grid_column": null,
       "grid_gap": null,
       "grid_row": null,
       "grid_template_areas": null,
       "grid_template_columns": null,
       "grid_template_rows": null,
       "height": null,
       "justify_content": null,
       "justify_items": null,
       "left": null,
       "margin": null,
       "max_height": null,
       "max_width": null,
       "min_height": null,
       "min_width": null,
       "object_fit": null,
       "object_position": null,
       "order": null,
       "overflow": null,
       "overflow_x": null,
       "overflow_y": null,
       "padding": null,
       "right": null,
       "top": null,
       "visibility": null,
       "width": "100%"
      }
     },
     "74902d0ca94f4b9a8c92790e6ad285bf": {
      "model_module": "@jupyter-widgets/controls",
      "model_module_version": "1.5.0",
      "model_name": "HTMLModel",
      "state": {
       "_dom_classes": [],
       "_model_module": "@jupyter-widgets/controls",
       "_model_module_version": "1.5.0",
       "_model_name": "HTMLModel",
       "_view_count": null,
       "_view_module": "@jupyter-widgets/controls",
       "_view_module_version": "1.5.0",
       "_view_name": "HTMLView",
       "description": "",
       "description_tooltip": null,
       "layout": "IPY_MODEL_f085a87d42d14f59817388d2ef28a62a",
       "placeholder": "​",
       "style": "IPY_MODEL_9efda4c04090495ca07035d5ba35f873",
       "value": "Predicting DataLoader 0: 100%"
      }
     },
     "794bc726ed484bc19d0924a4d83a1649": {
      "model_module": "@jupyter-widgets/base",
      "model_module_version": "1.2.0",
      "model_name": "LayoutModel",
      "state": {
       "_model_module": "@jupyter-widgets/base",
       "_model_module_version": "1.2.0",
       "_model_name": "LayoutModel",
       "_view_count": null,
       "_view_module": "@jupyter-widgets/base",
       "_view_module_version": "1.2.0",
       "_view_name": "LayoutView",
       "align_content": null,
       "align_items": null,
       "align_self": null,
       "border": null,
       "bottom": null,
       "display": null,
       "flex": null,
       "flex_flow": null,
       "grid_area": null,
       "grid_auto_columns": null,
       "grid_auto_flow": null,
       "grid_auto_rows": null,
       "grid_column": null,
       "grid_gap": null,
       "grid_row": null,
       "grid_template_areas": null,
       "grid_template_columns": null,
       "grid_template_rows": null,
       "height": null,
       "justify_content": null,
       "justify_items": null,
       "left": null,
       "margin": null,
       "max_height": null,
       "max_width": null,
       "min_height": null,
       "min_width": null,
       "object_fit": null,
       "object_position": null,
       "order": null,
       "overflow": null,
       "overflow_x": null,
       "overflow_y": null,
       "padding": null,
       "right": null,
       "top": null,
       "visibility": null,
       "width": null
      }
     },
     "8af1e76133f2417db6ec7a6b1f214024": {
      "model_module": "@jupyter-widgets/controls",
      "model_module_version": "1.5.0",
      "model_name": "DescriptionStyleModel",
      "state": {
       "_model_module": "@jupyter-widgets/controls",
       "_model_module_version": "1.5.0",
       "_model_name": "DescriptionStyleModel",
       "_view_count": null,
       "_view_module": "@jupyter-widgets/base",
       "_view_module_version": "1.2.0",
       "_view_name": "StyleView",
       "description_width": ""
      }
     },
     "9af3a70173474367a1ab5ec08a8e49bf": {
      "model_module": "@jupyter-widgets/controls",
      "model_module_version": "1.5.0",
      "model_name": "FloatProgressModel",
      "state": {
       "_dom_classes": [],
       "_model_module": "@jupyter-widgets/controls",
       "_model_module_version": "1.5.0",
       "_model_name": "FloatProgressModel",
       "_view_count": null,
       "_view_module": "@jupyter-widgets/controls",
       "_view_module_version": "1.5.0",
       "_view_name": "ProgressView",
       "bar_style": "danger",
       "description": "",
       "description_tooltip": null,
       "layout": "IPY_MODEL_5f31f4484c854143a8a68e34bd5e5b61",
       "max": 889748.0,
       "min": 0.0,
       "orientation": "horizontal",
       "style": "IPY_MODEL_64ee2eacda5a4619afea20bfdcdf154a",
       "value": 29590.0
      }
     },
     "9efda4c04090495ca07035d5ba35f873": {
      "model_module": "@jupyter-widgets/controls",
      "model_module_version": "1.5.0",
      "model_name": "DescriptionStyleModel",
      "state": {
       "_model_module": "@jupyter-widgets/controls",
       "_model_module_version": "1.5.0",
       "_model_name": "DescriptionStyleModel",
       "_view_count": null,
       "_view_module": "@jupyter-widgets/base",
       "_view_module_version": "1.2.0",
       "_view_name": "StyleView",
       "description_width": ""
      }
     },
     "9f858adc63b4483e8aef06b29d3f9a75": {
      "model_module": "@jupyter-widgets/controls",
      "model_module_version": "1.5.0",
      "model_name": "FloatProgressModel",
      "state": {
       "_dom_classes": [],
       "_model_module": "@jupyter-widgets/controls",
       "_model_module_version": "1.5.0",
       "_model_name": "FloatProgressModel",
       "_view_count": null,
       "_view_module": "@jupyter-widgets/controls",
       "_view_module_version": "1.5.0",
       "_view_name": "ProgressView",
       "bar_style": "success",
       "description": "",
       "description_tooltip": null,
       "layout": "IPY_MODEL_d722dbf5b72343a59998bb8d81192a17",
       "max": 20782.0,
       "min": 0.0,
       "orientation": "horizontal",
       "style": "IPY_MODEL_e7307ca21ae34271a49b4a60762cd0b3",
       "value": 20782.0
      }
     },
     "a178c70ba16b4cafbac6b1cfc797e38c": {
      "model_module": "@jupyter-widgets/base",
      "model_module_version": "1.2.0",
      "model_name": "LayoutModel",
      "state": {
       "_model_module": "@jupyter-widgets/base",
       "_model_module_version": "1.2.0",
       "_model_name": "LayoutModel",
       "_view_count": null,
       "_view_module": "@jupyter-widgets/base",
       "_view_module_version": "1.2.0",
       "_view_name": "LayoutView",
       "align_content": null,
       "align_items": null,
       "align_self": null,
       "border": null,
       "bottom": null,
       "display": "inline-flex",
       "flex": null,
       "flex_flow": "row wrap",
       "grid_area": null,
       "grid_auto_columns": null,
       "grid_auto_flow": null,
       "grid_auto_rows": null,
       "grid_column": null,
       "grid_gap": null,
       "grid_row": null,
       "grid_template_areas": null,
       "grid_template_columns": null,
       "grid_template_rows": null,
       "height": null,
       "justify_content": null,
       "justify_items": null,
       "left": null,
       "margin": null,
       "max_height": null,
       "max_width": null,
       "min_height": null,
       "min_width": null,
       "object_fit": null,
       "object_position": null,
       "order": null,
       "overflow": null,
       "overflow_x": null,
       "overflow_y": null,
       "padding": null,
       "right": null,
       "top": null,
       "visibility": null,
       "width": "100%"
      }
     },
     "b51f1e5153da43a9b85be8b135a3f84d": {
      "model_module": "@jupyter-widgets/controls",
      "model_module_version": "1.5.0",
      "model_name": "DescriptionStyleModel",
      "state": {
       "_model_module": "@jupyter-widgets/controls",
       "_model_module_version": "1.5.0",
       "_model_name": "DescriptionStyleModel",
       "_view_count": null,
       "_view_module": "@jupyter-widgets/base",
       "_view_module_version": "1.2.0",
       "_view_name": "StyleView",
       "description_width": ""
      }
     },
     "cdbc5989539a4352a2a600c69c9243bc": {
      "model_module": "@jupyter-widgets/controls",
      "model_module_version": "1.5.0",
      "model_name": "HTMLModel",
      "state": {
       "_dom_classes": [],
       "_model_module": "@jupyter-widgets/controls",
       "_model_module_version": "1.5.0",
       "_model_name": "HTMLModel",
       "_view_count": null,
       "_view_module": "@jupyter-widgets/controls",
       "_view_module_version": "1.5.0",
       "_view_name": "HTMLView",
       "description": "",
       "description_tooltip": null,
       "layout": "IPY_MODEL_ed1583a3b4da4591b5371c18632d020f",
       "placeholder": "​",
       "style": "IPY_MODEL_f90719f8c15e48bf9a83d9e94e5147ab",
       "value": "Epoch 0:   3%"
      }
     },
     "d1ae853b29db43aa8dc23c846cb6dad3": {
      "model_module": "@jupyter-widgets/controls",
      "model_module_version": "1.5.0",
      "model_name": "HTMLModel",
      "state": {
       "_dom_classes": [],
       "_model_module": "@jupyter-widgets/controls",
       "_model_module_version": "1.5.0",
       "_model_name": "HTMLModel",
       "_view_count": null,
       "_view_module": "@jupyter-widgets/controls",
       "_view_module_version": "1.5.0",
       "_view_name": "HTMLView",
       "description": "",
       "description_tooltip": null,
       "layout": "IPY_MODEL_14fe836d71ac4826bbfc54e026b177c8",
       "placeholder": "​",
       "style": "IPY_MODEL_8af1e76133f2417db6ec7a6b1f214024",
       "value": " 20782/20782 [59:20&lt;00:00,  5.84it/s]"
      }
     },
     "d722dbf5b72343a59998bb8d81192a17": {
      "model_module": "@jupyter-widgets/base",
      "model_module_version": "1.2.0",
      "model_name": "LayoutModel",
      "state": {
       "_model_module": "@jupyter-widgets/base",
       "_model_module_version": "1.2.0",
       "_model_name": "LayoutModel",
       "_view_count": null,
       "_view_module": "@jupyter-widgets/base",
       "_view_module_version": "1.2.0",
       "_view_name": "LayoutView",
       "align_content": null,
       "align_items": null,
       "align_self": null,
       "border": null,
       "bottom": null,
       "display": null,
       "flex": "2",
       "flex_flow": null,
       "grid_area": null,
       "grid_auto_columns": null,
       "grid_auto_flow": null,
       "grid_auto_rows": null,
       "grid_column": null,
       "grid_gap": null,
       "grid_row": null,
       "grid_template_areas": null,
       "grid_template_columns": null,
       "grid_template_rows": null,
       "height": null,
       "justify_content": null,
       "justify_items": null,
       "left": null,
       "margin": null,
       "max_height": null,
       "max_width": null,
       "min_height": null,
       "min_width": null,
       "object_fit": null,
       "object_position": null,
       "order": null,
       "overflow": null,
       "overflow_x": null,
       "overflow_y": null,
       "padding": null,
       "right": null,
       "top": null,
       "visibility": null,
       "width": null
      }
     },
     "e7307ca21ae34271a49b4a60762cd0b3": {
      "model_module": "@jupyter-widgets/controls",
      "model_module_version": "1.5.0",
      "model_name": "ProgressStyleModel",
      "state": {
       "_model_module": "@jupyter-widgets/controls",
       "_model_module_version": "1.5.0",
       "_model_name": "ProgressStyleModel",
       "_view_count": null,
       "_view_module": "@jupyter-widgets/base",
       "_view_module_version": "1.2.0",
       "_view_name": "StyleView",
       "bar_color": null,
       "description_width": ""
      }
     },
     "ed1583a3b4da4591b5371c18632d020f": {
      "model_module": "@jupyter-widgets/base",
      "model_module_version": "1.2.0",
      "model_name": "LayoutModel",
      "state": {
       "_model_module": "@jupyter-widgets/base",
       "_model_module_version": "1.2.0",
       "_model_name": "LayoutModel",
       "_view_count": null,
       "_view_module": "@jupyter-widgets/base",
       "_view_module_version": "1.2.0",
       "_view_name": "LayoutView",
       "align_content": null,
       "align_items": null,
       "align_self": null,
       "border": null,
       "bottom": null,
       "display": null,
       "flex": null,
       "flex_flow": null,
       "grid_area": null,
       "grid_auto_columns": null,
       "grid_auto_flow": null,
       "grid_auto_rows": null,
       "grid_column": null,
       "grid_gap": null,
       "grid_row": null,
       "grid_template_areas": null,
       "grid_template_columns": null,
       "grid_template_rows": null,
       "height": null,
       "justify_content": null,
       "justify_items": null,
       "left": null,
       "margin": null,
       "max_height": null,
       "max_width": null,
       "min_height": null,
       "min_width": null,
       "object_fit": null,
       "object_position": null,
       "order": null,
       "overflow": null,
       "overflow_x": null,
       "overflow_y": null,
       "padding": null,
       "right": null,
       "top": null,
       "visibility": null,
       "width": null
      }
     },
     "f085a87d42d14f59817388d2ef28a62a": {
      "model_module": "@jupyter-widgets/base",
      "model_module_version": "1.2.0",
      "model_name": "LayoutModel",
      "state": {
       "_model_module": "@jupyter-widgets/base",
       "_model_module_version": "1.2.0",
       "_model_name": "LayoutModel",
       "_view_count": null,
       "_view_module": "@jupyter-widgets/base",
       "_view_module_version": "1.2.0",
       "_view_name": "LayoutView",
       "align_content": null,
       "align_items": null,
       "align_self": null,
       "border": null,
       "bottom": null,
       "display": null,
       "flex": null,
       "flex_flow": null,
       "grid_area": null,
       "grid_auto_columns": null,
       "grid_auto_flow": null,
       "grid_auto_rows": null,
       "grid_column": null,
       "grid_gap": null,
       "grid_row": null,
       "grid_template_areas": null,
       "grid_template_columns": null,
       "grid_template_rows": null,
       "height": null,
       "justify_content": null,
       "justify_items": null,
       "left": null,
       "margin": null,
       "max_height": null,
       "max_width": null,
       "min_height": null,
       "min_width": null,
       "object_fit": null,
       "object_position": null,
       "order": null,
       "overflow": null,
       "overflow_x": null,
       "overflow_y": null,
       "padding": null,
       "right": null,
       "top": null,
       "visibility": null,
       "width": null
      }
     },
     "f90719f8c15e48bf9a83d9e94e5147ab": {
      "model_module": "@jupyter-widgets/controls",
      "model_module_version": "1.5.0",
      "model_name": "DescriptionStyleModel",
      "state": {
       "_model_module": "@jupyter-widgets/controls",
       "_model_module_version": "1.5.0",
       "_model_name": "DescriptionStyleModel",
       "_view_count": null,
       "_view_module": "@jupyter-widgets/base",
       "_view_module_version": "1.2.0",
       "_view_name": "StyleView",
       "description_width": ""
      }
     }
    },
    "version_major": 2,
    "version_minor": 0
   }
  }
 },
 "nbformat": 4,
 "nbformat_minor": 5
}
