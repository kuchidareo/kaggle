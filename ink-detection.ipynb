{
 "cells": [
  {
   "cell_type": "code",
   "execution_count": 1,
   "id": "43a590f2",
   "metadata": {
    "execution": {
     "iopub.execute_input": "2023-05-29T07:40:02.586767Z",
     "iopub.status.busy": "2023-05-29T07:40:02.585865Z",
     "iopub.status.idle": "2023-05-29T07:40:06.984467Z",
     "shell.execute_reply": "2023-05-29T07:40:06.983215Z"
    },
    "papermill": {
     "duration": 4.410033,
     "end_time": "2023-05-29T07:40:06.987511",
     "exception": false,
     "start_time": "2023-05-29T07:40:02.577478",
     "status": "completed"
    },
    "tags": []
   },
   "outputs": [],
   "source": [
    "import matplotlib.pyplot as plt\n",
    "import matplotlib.patches as patches\n",
    "import PIL.Image as Image\n",
    "import numpy as np\n",
    "import torch\n",
    "import glob\n",
    "from tqdm import tqdm\n",
    "import torch\n",
    "import torch.utils.data as data\n",
    "import torch.nn as nn\n",
    "import torch.optim as optim\n",
    "import ipywidgets as widgets"
   ]
  },
  {
   "cell_type": "code",
   "execution_count": 2,
   "id": "0ededbb5",
   "metadata": {
    "execution": {
     "iopub.execute_input": "2023-05-29T07:40:07.002662Z",
     "iopub.status.busy": "2023-05-29T07:40:07.002030Z",
     "iopub.status.idle": "2023-05-29T07:40:21.292692Z",
     "shell.execute_reply": "2023-05-29T07:40:21.291448Z"
    },
    "papermill": {
     "duration": 14.30115,
     "end_time": "2023-05-29T07:40:21.295607",
     "exception": false,
     "start_time": "2023-05-29T07:40:06.994457",
     "status": "completed"
    },
    "tags": []
   },
   "outputs": [
    {
     "name": "stderr",
     "output_type": "stream",
     "text": [
      "/opt/conda/lib/python3.10/site-packages/scipy/__init__.py:146: UserWarning: A NumPy version >=1.16.5 and <1.23.0 is required for this version of SciPy (detected version 1.23.5\n",
      "  warnings.warn(f\"A NumPy version >={np_minversion} and <{np_maxversion}\"\n"
     ]
    }
   ],
   "source": [
    "# !pip install pytorch-lightning\n",
    "import pytorch_lightning as pl\n",
    "from pytorch_lightning.callbacks import TQDMProgressBar\n",
    "\n",
    "PREFIX = '/kaggle/input/vesuvius-challenge-ink-detection'"
   ]
  },
  {
   "cell_type": "code",
   "execution_count": 3,
   "id": "96d721d8",
   "metadata": {
    "_kg_hide-input": true,
    "execution": {
     "iopub.execute_input": "2023-05-29T07:40:21.310784Z",
     "iopub.status.busy": "2023-05-29T07:40:21.310381Z",
     "iopub.status.idle": "2023-05-29T07:40:21.315100Z",
     "shell.execute_reply": "2023-05-29T07:40:21.314035Z"
    },
    "papermill": {
     "duration": 0.015252,
     "end_time": "2023-05-29T07:40:21.317607",
     "exception": false,
     "start_time": "2023-05-29T07:40:21.302355",
     "status": "completed"
    },
    "tags": []
   },
   "outputs": [],
   "source": [
    "# fig, (ax1, ax2, ax3) = plt.subplots(1, 3)\n",
    "# ax1.imshow(Image.open(PREFIX+'/train/1/mask.png'))\n",
    "# ax2.imshow(Image.open(PREFIX+'/train/1/inklabels.png'))\n",
    "# ax3.imshow(Image.open(PREFIX+'/train/1/ir.png'))\n",
    "# plt.show()"
   ]
  },
  {
   "cell_type": "code",
   "execution_count": 4,
   "id": "f429a48e",
   "metadata": {
    "_kg_hide-input": true,
    "execution": {
     "iopub.execute_input": "2023-05-29T07:40:21.331947Z",
     "iopub.status.busy": "2023-05-29T07:40:21.331510Z",
     "iopub.status.idle": "2023-05-29T07:40:21.336603Z",
     "shell.execute_reply": "2023-05-29T07:40:21.335488Z"
    },
    "papermill": {
     "duration": 0.015452,
     "end_time": "2023-05-29T07:40:21.339205",
     "exception": false,
     "start_time": "2023-05-29T07:40:21.323753",
     "status": "completed"
    },
    "tags": []
   },
   "outputs": [],
   "source": [
    "# images = [Image.open(filename) for filename in tqdm(sorted(glob.glob(PREFIX+'/train/1/surface_volume/*.tif'))[0:5])]\n",
    "# fig, axes = plt.subplots(1, len(images))\n",
    "# for image, ax in zip(images, axes):\n",
    "#     ax.imshow(image)\n",
    "#     ax.set_xticks([])\n",
    "#     ax.set_yticks([])\n",
    "# plt.show()"
   ]
  },
  {
   "cell_type": "code",
   "execution_count": 5,
   "id": "cedfd8b7",
   "metadata": {
    "_kg_hide-input": true,
    "execution": {
     "iopub.execute_input": "2023-05-29T07:40:21.353530Z",
     "iopub.status.busy": "2023-05-29T07:40:21.353137Z",
     "iopub.status.idle": "2023-05-29T07:40:21.357783Z",
     "shell.execute_reply": "2023-05-29T07:40:21.356459Z"
    },
    "papermill": {
     "duration": 0.015001,
     "end_time": "2023-05-29T07:40:21.360280",
     "exception": false,
     "start_time": "2023-05-29T07:40:21.345279",
     "status": "completed"
    },
    "tags": []
   },
   "outputs": [],
   "source": [
    "# rect = (1550, 3500, 900, 950)\n",
    "# fig, ax = plt.subplots()\n",
    "# label = np.array(Image.open(PREFIX+'/train/1/inklabels.png'))\n",
    "# ax.imshow(label)\n",
    "# patch = patches.Rectangle((rect[0], rect[1]), rect[2], rect[3], facecolor='none', linewidth=2, edgecolor='r')\n",
    "# ax.add_patch(patch)\n",
    "# plt.show()"
   ]
  },
  {
   "cell_type": "code",
   "execution_count": 6,
   "id": "3bb80d3f",
   "metadata": {
    "execution": {
     "iopub.execute_input": "2023-05-29T07:40:21.375064Z",
     "iopub.status.busy": "2023-05-29T07:40:21.374635Z",
     "iopub.status.idle": "2023-05-29T07:40:21.379775Z",
     "shell.execute_reply": "2023-05-29T07:40:21.378492Z"
    },
    "papermill": {
     "duration": 0.015683,
     "end_time": "2023-05-29T07:40:21.382101",
     "exception": false,
     "start_time": "2023-05-29T07:40:21.366418",
     "status": "completed"
    },
    "tags": []
   },
   "outputs": [],
   "source": [
    "BUFFER = 30\n",
    "LEARNING_RATE = 0.03\n",
    "BATCH_SIZE = 32\n",
    "Z_START = 20\n",
    "Z_DIM = 10"
   ]
  },
  {
   "cell_type": "code",
   "execution_count": 7,
   "id": "b60e7e12",
   "metadata": {
    "execution": {
     "iopub.execute_input": "2023-05-29T07:40:21.396839Z",
     "iopub.status.busy": "2023-05-29T07:40:21.395830Z",
     "iopub.status.idle": "2023-05-29T07:40:42.839779Z",
     "shell.execute_reply": "2023-05-29T07:40:42.838475Z"
    },
    "papermill": {
     "duration": 21.45445,
     "end_time": "2023-05-29T07:40:42.842741",
     "exception": false,
     "start_time": "2023-05-29T07:40:21.388291",
     "status": "completed"
    },
    "tags": []
   },
   "outputs": [],
   "source": [
    "images = [np.array(Image.open(filename), dtype=np.float32)/65535.0 for filename in sorted(glob.glob(PREFIX+'/train/1/surface_volume/*.tif'))[Z_START:Z_START+Z_DIM]]\n",
    "image_stack = torch.stack([torch.from_numpy(image) for image in images], dim=0)\n",
    "\n",
    "label = torch.from_numpy(np.array(Image.open(PREFIX+'/train/1/inklabels.png'))).float()"
   ]
  },
  {
   "cell_type": "code",
   "execution_count": 8,
   "id": "19c5fd3c",
   "metadata": {
    "execution": {
     "iopub.execute_input": "2023-05-29T07:40:42.858448Z",
     "iopub.status.busy": "2023-05-29T07:40:42.857131Z",
     "iopub.status.idle": "2023-05-29T07:40:44.423745Z",
     "shell.execute_reply": "2023-05-29T07:40:44.422490Z"
    },
    "papermill": {
     "duration": 1.577745,
     "end_time": "2023-05-29T07:40:44.427006",
     "exception": false,
     "start_time": "2023-05-29T07:40:42.849261",
     "status": "completed"
    },
    "tags": []
   },
   "outputs": [],
   "source": [
    "rect = (1550, 3500, 900, 950)\n",
    "mask = np.array(Image.open(PREFIX+'/train/1/mask.png'), dtype=np.float32)\n",
    "not_border = np.zeros(mask.shape, dtype=np.bool_)\n",
    "not_border[BUFFER:mask.shape[0]-BUFFER, BUFFER:mask.shape[1]-BUFFER] = True\n",
    "\n",
    "arr_mask = mask * not_border\n",
    "\n",
    "inside_rect = np.zeros(mask.shape, dtype=np.bool_)\n",
    "inside_rect[rect[1]:rect[1]+rect[3], rect[0]:rect[0]+rect[2]] = True\n",
    "\n",
    "outside_rect = np.ones(mask.shape, dtype=np.bool_) * arr_mask\n",
    "outside_rect[rect[1]:rect[1]+rect[3], rect[0]:rect[0]+rect[2]] = False\n",
    "\n",
    "pixels_inside_rect = np.argwhere(inside_rect)\n",
    "pixels_outside_rect = np.argwhere(outside_rect)"
   ]
  },
  {
   "cell_type": "code",
   "execution_count": 9,
   "id": "517dfe9a",
   "metadata": {
    "execution": {
     "iopub.execute_input": "2023-05-29T07:40:44.441873Z",
     "iopub.status.busy": "2023-05-29T07:40:44.440837Z",
     "iopub.status.idle": "2023-05-29T07:40:44.449515Z",
     "shell.execute_reply": "2023-05-29T07:40:44.448498Z"
    },
    "papermill": {
     "duration": 0.018978,
     "end_time": "2023-05-29T07:40:44.452179",
     "exception": false,
     "start_time": "2023-05-29T07:40:44.433201",
     "status": "completed"
    },
    "tags": []
   },
   "outputs": [],
   "source": [
    "class SubVolumeDataSet(data.Dataset):\n",
    "    def __init__(self, image_stack, label, pixels):\n",
    "        self.image_stack = image_stack\n",
    "        self.label = label\n",
    "        self.pixels = pixels\n",
    "    def __len__(self):\n",
    "        return len(self.pixels)\n",
    "    def __getitem__(self, index):\n",
    "        y, x = self.pixels[index]\n",
    "        subvolume = self.image_stack[:, y-BUFFER:y+BUFFER+1, x-BUFFER:x+BUFFER+1].view(1, Z_DIM, 2*BUFFER+1, 2*BUFFER+1)\n",
    "        inklabel = self.label[y, x].view(1)\n",
    "        return subvolume, inklabel"
   ]
  },
  {
   "cell_type": "code",
   "execution_count": 10,
   "id": "c55def19",
   "metadata": {
    "execution": {
     "iopub.execute_input": "2023-05-29T07:40:44.466599Z",
     "iopub.status.busy": "2023-05-29T07:40:44.465882Z",
     "iopub.status.idle": "2023-05-29T07:40:44.477846Z",
     "shell.execute_reply": "2023-05-29T07:40:44.476449Z"
    },
    "papermill": {
     "duration": 0.022405,
     "end_time": "2023-05-29T07:40:44.480712",
     "exception": false,
     "start_time": "2023-05-29T07:40:44.458307",
     "status": "completed"
    },
    "tags": []
   },
   "outputs": [],
   "source": [
    "class CNNModel(pl.LightningModule):\n",
    "    def __init__(self):\n",
    "        super().__init__()\n",
    "        self.model = nn.Sequential(\n",
    "            nn.Conv3d(1, 16, 3, 1, 1), nn.MaxPool3d(2, 2),\n",
    "            nn.Conv3d(16, 32, 3, 1, 1), nn.MaxPool3d(2, 2),\n",
    "            nn.Conv3d(32, 64, 3, 1, 1), nn.MaxPool3d(2, 2),\n",
    "            nn.Flatten(start_dim=1),\n",
    "            nn.LazyLinear(128), nn.ReLU(),\n",
    "            nn.LazyLinear(1), nn.Sigmoid()\n",
    "        )\n",
    "        self.loss_fn = nn.BCELoss()\n",
    "        \n",
    "    def forward(self, x):\n",
    "        return self.model(x)\n",
    "    \n",
    "    def training_step(self, batch, batch_idx):\n",
    "        subvolumes, inklabels = batch\n",
    "        loss = self.loss_fn(self.forward(subvolumes), inklabels)\n",
    "        self.log('train_loss', loss)\n",
    "        return loss\n",
    "    \n",
    "    def predict_step(self, batch, batch_idx):\n",
    "        subvolumes, _ = batch\n",
    "        predictions = self.forward(subvolumes)\n",
    "        return predictions\n",
    "        \n",
    "    def configure_optimizers(self):\n",
    "        optimizer = optim.SGD(self.parameters(), lr=LEARNING_RATE)\n",
    "        return optimizer\n",
    "    "
   ]
  },
  {
   "cell_type": "code",
   "execution_count": 11,
   "id": "1255d831",
   "metadata": {
    "execution": {
     "iopub.execute_input": "2023-05-29T07:40:44.496050Z",
     "iopub.status.busy": "2023-05-29T07:40:44.494804Z",
     "iopub.status.idle": "2023-05-29T07:40:44.500711Z",
     "shell.execute_reply": "2023-05-29T07:40:44.499536Z"
    },
    "papermill": {
     "duration": 0.016398,
     "end_time": "2023-05-29T07:40:44.503187",
     "exception": false,
     "start_time": "2023-05-29T07:40:44.486789",
     "status": "completed"
    },
    "tags": []
   },
   "outputs": [],
   "source": [
    "# class DataModule(pl.LightningDataModule):\n",
    "#     def __init__(self):\n",
    "#         super().__init__()\n",
    "#         self.batch_size = 32\n",
    "\n",
    "#         self.train_data = SubVolumeDataSet(image_stack, label, pixels_outside_rect)\n",
    "#         self.val_data = SubVolumeDataSet(image_stack, label, pixels_inside_rect)\n",
    "\n",
    "#     def train_dataloader(self):\n",
    "#         return data.DataLoader(self.train_data, batch_size=self.batch_size, shuffle=True, num_workers=4)\n",
    "#     def val_dataloader(self):\n",
    "#         return data.DataLoader(self.val_data, batch_size=self.batch_size, shuffle=False, num_workers=4)"
   ]
  },
  {
   "cell_type": "code",
   "execution_count": 12,
   "id": "fa60f316",
   "metadata": {
    "execution": {
     "iopub.execute_input": "2023-05-29T07:40:44.517927Z",
     "iopub.status.busy": "2023-05-29T07:40:44.517511Z",
     "iopub.status.idle": "2023-05-29T07:40:44.522161Z",
     "shell.execute_reply": "2023-05-29T07:40:44.520920Z"
    },
    "papermill": {
     "duration": 0.0152,
     "end_time": "2023-05-29T07:40:44.524542",
     "exception": false,
     "start_time": "2023-05-29T07:40:44.509342",
     "status": "completed"
    },
    "tags": []
   },
   "outputs": [],
   "source": [
    "# checkpoint_callback = pl.callbacks.ModelCheckpoint(\n",
    "#     monitor=\"val_acc_epoch\",\n",
    "#     save_top_k=3,\n",
    "#     mode=\"max\"\n",
    "# )"
   ]
  },
  {
   "cell_type": "code",
   "execution_count": 13,
   "id": "4ebfa34b",
   "metadata": {
    "execution": {
     "iopub.execute_input": "2023-05-29T07:40:44.539654Z",
     "iopub.status.busy": "2023-05-29T07:40:44.538843Z",
     "iopub.status.idle": "2023-05-29T12:27:00.137043Z",
     "shell.execute_reply": "2023-05-29T12:27:00.135506Z"
    },
    "papermill": {
     "duration": 17175.609846,
     "end_time": "2023-05-29T12:27:00.140503",
     "exception": false,
     "start_time": "2023-05-29T07:40:44.530657",
     "status": "completed"
    },
    "tags": []
   },
   "outputs": [
    {
     "name": "stderr",
     "output_type": "stream",
     "text": [
      "/opt/conda/lib/python3.10/site-packages/torch/nn/modules/lazy.py:180: UserWarning: Lazy modules are a new feature under heavy development so changes to the API or functionality can happen at any moment.\n",
      "  warnings.warn('Lazy modules are a new feature under heavy development '\n",
      "/opt/conda/lib/python3.10/site-packages/pytorch_lightning/utilities/model_summary/model_summary.py:411: UserWarning: A layer with UninitializedParameter was found. Thus, the total number of parameters detected may be inaccurate.\n",
      "  warning_cache.warn(\n"
     ]
    },
    {
     "data": {
      "application/vnd.jupyter.widget-view+json": {
       "model_id": "31623a1206074637b932e0cbcd6bc849",
       "version_major": 2,
       "version_minor": 0
      },
      "text/plain": [
       "Training: 0it [00:00, ?it/s]"
      ]
     },
     "metadata": {},
     "output_type": "display_data"
    },
    {
     "name": "stderr",
     "output_type": "stream",
     "text": [
      "/opt/conda/lib/python3.10/site-packages/pytorch_lightning/trainer/connectors/checkpoint_connector.py:148: UserWarning: `.predict(ckpt_path=None)` was called without a model. The best model of the previous `fit` call will be used. You can pass `.predict(ckpt_path='best')` to use the best model or `.predict(ckpt_path='last')` to use the last model. If you pass a value, this warning will be silenced.\n",
      "  rank_zero_warn(\n"
     ]
    },
    {
     "data": {
      "application/vnd.jupyter.widget-view+json": {
       "model_id": "3d6181c43aeb4218bad9fe1c5821855b",
       "version_major": 2,
       "version_minor": 0
      },
      "text/plain": [
       "Predicting: 0it [00:00, ?it/s]"
      ]
     },
     "metadata": {},
     "output_type": "display_data"
    }
   ],
   "source": [
    "model = CNNModel()\n",
    "\n",
    "train_data = SubVolumeDataSet(image_stack, label, pixels_outside_rect)\n",
    "train_dataloader = data.DataLoader(train_data, batch_size=BATCH_SIZE, shuffle=True, num_workers=4)\n",
    "predict_data = SubVolumeDataSet(image_stack, label, pixels_inside_rect)\n",
    "predict_dataloader = data.DataLoader(predict_data, batch_size=BATCH_SIZE, shuffle=False, num_workers=4)\n",
    "\n",
    "trainer = pl.Trainer(\n",
    "    callbacks=[TQDMProgressBar(refresh_rate=10)],\n",
    "    max_time=\"00:03:00:00\"\n",
    ")\n",
    "trainer.fit(model, train_dataloaders=train_dataloader)\n",
    "predictions = trainer.predict(dataloaders=predict_dataloader)"
   ]
  },
  {
   "cell_type": "code",
   "execution_count": 14,
   "id": "fbfc42fb",
   "metadata": {
    "execution": {
     "iopub.execute_input": "2023-05-29T12:27:00.157409Z",
     "iopub.status.busy": "2023-05-29T12:27:00.155971Z",
     "iopub.status.idle": "2023-05-29T12:27:12.090900Z",
     "shell.execute_reply": "2023-05-29T12:27:12.089514Z"
    },
    "papermill": {
     "duration": 11.946409,
     "end_time": "2023-05-29T12:27:12.093847",
     "exception": false,
     "start_time": "2023-05-29T12:27:00.147438",
     "status": "completed"
    },
    "tags": []
   },
   "outputs": [
    {
     "name": "stdout",
     "output_type": "stream",
     "text": [
      "26719 <class 'list'>\n"
     ]
    }
   ],
   "source": [
    "output = torch.zeros_like(label).float()\n",
    "print(len(predictions), type(predictions)) # (26721, 32) ? (26719, 32)?\n",
    "for i, data in enumerate(predictions):\n",
    "    for j, value in enumerate(data):\n",
    "        output[tuple(pixels_inside_rect[i*BATCH_SIZE+j])] = value"
   ]
  },
  {
   "cell_type": "code",
   "execution_count": 15,
   "id": "588bcef7",
   "metadata": {
    "execution": {
     "iopub.execute_input": "2023-05-29T12:27:12.111049Z",
     "iopub.status.busy": "2023-05-29T12:27:12.110605Z",
     "iopub.status.idle": "2023-05-29T12:27:16.916811Z",
     "shell.execute_reply": "2023-05-29T12:27:16.915219Z"
    },
    "papermill": {
     "duration": 4.81812,
     "end_time": "2023-05-29T12:27:16.919780",
     "exception": false,
     "start_time": "2023-05-29T12:27:12.101660",
     "status": "completed"
    },
    "tags": []
   },
   "outputs": [
    {
     "data": {
      "image/png": "[encoded data removed]",
      "text/plain": [
       "<Figure size 640x480 with 2 Axes>"
      ]
     },
     "metadata": {},
     "output_type": "display_data"
    }
   ],
   "source": [
    "fig, (ax1, ax2) = plt.subplots(1, 2)\n",
    "ax1.imshow(output.cpu(), cmap='gray')\n",
    "ax2.imshow(label.cpu(), cmap='gray')\n",
    "plt.show()"
   ]
  },
  {
   "cell_type": "code",
   "execution_count": 16,
   "id": "80765dec",
   "metadata": {
    "execution": {
     "iopub.execute_input": "2023-05-29T12:27:16.939179Z",
     "iopub.status.busy": "2023-05-29T12:27:16.938644Z",
     "iopub.status.idle": "2023-05-29T12:27:20.630552Z",
     "shell.execute_reply": "2023-05-29T12:27:20.629108Z"
    },
    "papermill": {
     "duration": 3.705494,
     "end_time": "2023-05-29T12:27:20.633385",
     "exception": false,
     "start_time": "2023-05-29T12:27:16.927891",
     "status": "completed"
    },
    "tags": []
   },
   "outputs": [
    {
     "data": {
      "image/png": "[encoded data removed]",
      "text/plain": [
       "<Figure size 640x480 with 2 Axes>"
      ]
     },
     "metadata": {},
     "output_type": "display_data"
    }
   ],
   "source": [
    "THRESHOLD = 0.4\n",
    "fig, (ax1, ax2) = plt.subplots(1, 2)\n",
    "ax1.imshow(output.gt(THRESHOLD).cpu(), cmap='gray')\n",
    "ax2.imshow(label.cpu(), cmap='gray')\n",
    "plt.show()"
   ]
  },
  {
   "cell_type": "code",
   "execution_count": 17,
   "id": "de11f45b",
   "metadata": {
    "execution": {
     "iopub.execute_input": "2023-05-29T12:27:20.653651Z",
     "iopub.status.busy": "2023-05-29T12:27:20.653253Z",
     "iopub.status.idle": "2023-05-29T12:27:21.150552Z",
     "shell.execute_reply": "2023-05-29T12:27:21.149028Z"
    },
    "papermill": {
     "duration": 0.511922,
     "end_time": "2023-05-29T12:27:21.153862",
     "exception": false,
     "start_time": "2023-05-29T12:27:20.641940",
     "status": "completed"
    },
    "tags": []
   },
   "outputs": [],
   "source": [
    "def rle(output):\n",
    "    pixels = np.where(output.flatten().cpu() > THRESHOLD, 1, 0).astype(np.uint8)\n",
    "    pixels[0] = 0\n",
    "    pixels[-1] = 0\n",
    "    runs = np.where(pixels[1:] != pixels[:-1])[0] + 2\n",
    "    runs[1::2] = runs[1::2] - runs[:-1:2]\n",
    "    return ' '.join(str(x) for x in runs)\n",
    "\n",
    "rle_output = rle(output)\n",
    "print(\"Id,Predicted\\na,\" + rle_output + \"\\nb,\" + rle_output, file=open('submission.csv', 'w'))"
   ]
  }
 ],
 "metadata": {
  "kernelspec": {
   "display_name": "Python 3",
   "language": "python",
   "name": "python3"
  },
  "language_info": {
   "codemirror_mode": {
    "name": "ipython",
    "version": 3
   },
   "file_extension": ".py",
   "mimetype": "text/x-python",
   "name": "python",
   "nbconvert_exporter": "python",
   "pygments_lexer": "ipython3",
   "version": "3.10.10"
  },
  "papermill": {
   "default_parameters": {},
   "duration": 17256.242433,
   "end_time": "2023-05-29T12:27:24.068586",
   "environment_variables": {},
   "exception": null,
   "input_path": "__notebook__.ipynb",
   "output_path": "__notebook__.ipynb",
   "parameters": {},
   "start_time": "2023-05-29T07:39:47.826153",
   "version": "2.4.0"
  },
  "widgets": {
   "application/vnd.jupyter.widget-state+json": {
    "state": {
     "0a60c13a17a847348c103e4c971d33ab": {
      "model_module": "@jupyter-widgets/base",
      "model_module_version": "1.2.0",
      "model_name": "LayoutModel",
      "state": {
       "_model_module": "@jupyter-widgets/base",
       "_model_module_version": "1.2.0",
       "_model_name": "LayoutModel",
       "_view_count": null,
       "_view_module": "@jupyter-widgets/base",
       "_view_module_version": "1.2.0",
       "_view_name": "LayoutView",
       "align_content": null,
       "align_items": null,
       "align_self": null,
       "border": null,
       "bottom": null,
       "display": null,
       "flex": null,
       "flex_flow": null,
       "grid_area": null,
       "grid_auto_columns": null,
       "grid_auto_flow": null,
       "grid_auto_rows": null,
       "grid_column": null,
       "grid_gap": null,
       "grid_row": null,
       "grid_template_areas": null,
       "grid_template_columns": null,
       "grid_template_rows": null,
       "height": null,
       "justify_content": null,
       "justify_items": null,
       "left": null,
       "margin": null,
       "max_height": null,
       "max_width": null,
       "min_height": null,
       "min_width": null,
       "object_fit": null,
       "object_position": null,
       "order": null,
       "overflow": null,
       "overflow_x": null,
       "overflow_y": null,
       "padding": null,
       "right": null,
       "top": null,
       "visibility": null,
       "width": null
      }
     },
     "0f3c8126cd3e487ea72c76bceaa9e480": {
      "model_module": "@jupyter-widgets/base",
      "model_module_version": "1.2.0",
      "model_name": "LayoutModel",
      "state": {
       "_model_module": "@jupyter-widgets/base",
       "_model_module_version": "1.2.0",
       "_model_name": "LayoutModel",
       "_view_count": null,
       "_view_module": "@jupyter-widgets/base",
       "_view_module_version": "1.2.0",
       "_view_name": "LayoutView",
       "align_content": null,
       "align_items": null,
       "align_self": null,
       "border": null,
       "bottom": null,
       "display": "inline-flex",
       "flex": null,
       "flex_flow": "row wrap",
       "grid_area": null,
       "grid_auto_columns": null,
       "grid_auto_flow": null,
       "grid_auto_rows": null,
       "grid_column": null,
       "grid_gap": null,
       "grid_row": null,
       "grid_template_areas": null,
       "grid_template_columns": null,
       "grid_template_rows": null,
       "height": null,
       "justify_content": null,
       "justify_items": null,
       "left": null,
       "margin": null,
       "max_height": null,
       "max_width": null,
       "min_height": null,
       "min_width": null,
       "object_fit": null,
       "object_position": null,
       "order": null,
       "overflow": null,
       "overflow_x": null,
       "overflow_y": null,
       "padding": null,
       "right": null,
       "top": null,
       "visibility": null,
       "width": "100%"
      }
     },
     "31623a1206074637b932e0cbcd6bc849": {
      "model_module": "@jupyter-widgets/controls",
      "model_module_version": "1.5.0",
      "model_name": "HBoxModel",
      "state": {
       "_dom_classes": [],
       "_model_module": "@jupyter-widgets/controls",
       "_model_module_version": "1.5.0",
       "_model_name": "HBoxModel",
       "_view_count": null,
       "_view_module": "@jupyter-widgets/controls",
       "_view_module_version": "1.5.0",
       "_view_name": "HBoxView",
       "box_style": "",
       "children": [
        "IPY_MODEL_7c7b890593b44327b13dce5c98ae6c6a",
        "IPY_MODEL_d7fd74007aba44afa7ffd6c96a21295b",
        "IPY_MODEL_be669e4531d646b68d27c45a79755af8"
       ],
       "layout": "IPY_MODEL_8370223044f24a269cd66f8632b078ce"
      }
     },
     "37fd717298d7409c8e218b54ef863b6f": {
      "model_module": "@jupyter-widgets/base",
      "model_module_version": "1.2.0",
      "model_name": "LayoutModel",
      "state": {
       "_model_module": "@jupyter-widgets/base",
       "_model_module_version": "1.2.0",
       "_model_name": "LayoutModel",
       "_view_count": null,
       "_view_module": "@jupyter-widgets/base",
       "_view_module_version": "1.2.0",
       "_view_name": "LayoutView",
       "align_content": null,
       "align_items": null,
       "align_self": null,
       "border": null,
       "bottom": null,
       "display": null,
       "flex": null,
       "flex_flow": null,
       "grid_area": null,
       "grid_auto_columns": null,
       "grid_auto_flow": null,
       "grid_auto_rows": null,
       "grid_column": null,
       "grid_gap": null,
       "grid_row": null,
       "grid_template_areas": null,
       "grid_template_columns": null,
       "grid_template_rows": null,
       "height": null,
       "justify_content": null,
       "justify_items": null,
       "left": null,
       "margin": null,
       "max_height": null,
       "max_width": null,
       "min_height": null,
       "min_width": null,
       "object_fit": null,
       "object_position": null,
       "order": null,
       "overflow": null,
       "overflow_x": null,
       "overflow_y": null,
       "padding": null,
       "right": null,
       "top": null,
       "visibility": null,
       "width": null
      }
     },
     "3805809c3c2040c8b6ec6245505a60c0": {
      "model_module": "@jupyter-widgets/controls",
      "model_module_version": "1.5.0",
      "model_name": "HTMLModel",
      "state": {
       "_dom_classes": [],
       "_model_module": "@jupyter-widgets/controls",
       "_model_module_version": "1.5.0",
       "_model_name": "HTMLModel",
       "_view_count": null,
       "_view_module": "@jupyter-widgets/controls",
       "_view_module_version": "1.5.0",
       "_view_name": "HTMLView",
       "description": "",
       "description_tooltip": null,
       "layout": "IPY_MODEL_587ea2ef7b0f4e2bb60b101e7be61e63",
       "placeholder": "​",
       "style": "IPY_MODEL_b4cf6e5384e74ddcb593c18a70d3d2f0",
       "value": " 26719/26719 [1:46:04&lt;00:00,  4.20it/s]"
      }
     },
     "3d6181c43aeb4218bad9fe1c5821855b": {
      "model_module": "@jupyter-widgets/controls",
      "model_module_version": "1.5.0",
      "model_name": "HBoxModel",
      "state": {
       "_dom_classes": [],
       "_model_module": "@jupyter-widgets/controls",
       "_model_module_version": "1.5.0",
       "_model_name": "HBoxModel",
       "_view_count": null,
       "_view_module": "@jupyter-widgets/controls",
       "_view_module_version": "1.5.0",
       "_view_name": "HBoxView",
       "box_style": "",
       "children": [
        "IPY_MODEL_e73edffce6ed432eb274b17604f34376",
        "IPY_MODEL_642bf04f0c92473cbc2e9d19296e19aa",
        "IPY_MODEL_3805809c3c2040c8b6ec6245505a60c0"
       ],
       "layout": "IPY_MODEL_0f3c8126cd3e487ea72c76bceaa9e480"
      }
     },
     "4e0be474ad94471e9be5f9ab2671c178": {
      "model_module": "@jupyter-widgets/controls",
      "model_module_version": "1.5.0",
      "model_name": "ProgressStyleModel",
      "state": {
       "_model_module": "@jupyter-widgets/controls",
       "_model_module_version": "1.5.0",
       "_model_name": "ProgressStyleModel",
       "_view_count": null,
       "_view_module": "@jupyter-widgets/base",
       "_view_module_version": "1.2.0",
       "_view_name": "StyleView",
       "bar_color": null,
       "description_width": ""
      }
     },
     "587ea2ef7b0f4e2bb60b101e7be61e63": {
      "model_module": "@jupyter-widgets/base",
      "model_module_version": "1.2.0",
      "model_name": "LayoutModel",
      "state": {
       "_model_module": "@jupyter-widgets/base",
       "_model_module_version": "1.2.0",
       "_model_name": "LayoutModel",
       "_view_count": null,
       "_view_module": "@jupyter-widgets/base",
       "_view_module_version": "1.2.0",
       "_view_name": "LayoutView",
       "align_content": null,
       "align_items": null,
       "align_self": null,
       "border": null,
       "bottom": null,
       "display": null,
       "flex": null,
       "flex_flow": null,
       "grid_area": null,
       "grid_auto_columns": null,
       "grid_auto_flow": null,
       "grid_auto_rows": null,
       "grid_column": null,
       "grid_gap": null,
       "grid_row": null,
       "grid_template_areas": null,
       "grid_template_columns": null,
       "grid_template_rows": null,
       "height": null,
       "justify_content": null,
       "justify_items": null,
       "left": null,
       "margin": null,
       "max_height": null,
       "max_width": null,
       "min_height": null,
       "min_width": null,
       "object_fit": null,
       "object_position": null,
       "order": null,
       "overflow": null,
       "overflow_x": null,
       "overflow_y": null,
       "padding": null,
       "right": null,
       "top": null,
       "visibility": null,
       "width": null
      }
     },
     "5e79095ff1484b78a4d25eae440e3515": {
      "model_module": "@jupyter-widgets/base",
      "model_module_version": "1.2.0",
      "model_name": "LayoutModel",
      "state": {
       "_model_module": "@jupyter-widgets/base",
       "_model_module_version": "1.2.0",
       "_model_name": "LayoutModel",
       "_view_count": null,
       "_view_module": "@jupyter-widgets/base",
       "_view_module_version": "1.2.0",
       "_view_name": "LayoutView",
       "align_content": null,
       "align_items": null,
       "align_self": null,
       "border": null,
       "bottom": null,
       "display": null,
       "flex": null,
       "flex_flow": null,
       "grid_area": null,
       "grid_auto_columns": null,
       "grid_auto_flow": null,
       "grid_auto_rows": null,
       "grid_column": null,
       "grid_gap": null,
       "grid_row": null,
       "grid_template_areas": null,
       "grid_template_columns": null,
       "grid_template_rows": null,
       "height": null,
       "justify_content": null,
       "justify_items": null,
       "left": null,
       "margin": null,
       "max_height": null,
       "max_width": null,
       "min_height": null,
       "min_width": null,
       "object_fit": null,
       "object_position": null,
       "order": null,
       "overflow": null,
       "overflow_x": null,
       "overflow_y": null,
       "padding": null,
       "right": null,
       "top": null,
       "visibility": null,
       "width": null
      }
     },
     "642bf04f0c92473cbc2e9d19296e19aa": {
      "model_module": "@jupyter-widgets/controls",
      "model_module_version": "1.5.0",
      "model_name": "FloatProgressModel",
      "state": {
       "_dom_classes": [],
       "_model_module": "@jupyter-widgets/controls",
       "_model_module_version": "1.5.0",
       "_model_name": "FloatProgressModel",
       "_view_count": null,
       "_view_module": "@jupyter-widgets/controls",
       "_view_module_version": "1.5.0",
       "_view_name": "ProgressView",
       "bar_style": "success",
       "description": "",
       "description_tooltip": null,
       "layout": "IPY_MODEL_d3a032ed11ea4689ae1351658e6de8a8",
       "max": 26719.0,
       "min": 0.0,
       "orientation": "horizontal",
       "style": "IPY_MODEL_69df20123b0d400b9cdd0f15bf5b3dbb",
       "value": 26719.0
      }
     },
     "69df20123b0d400b9cdd0f15bf5b3dbb": {
      "model_module": "@jupyter-widgets/controls",
      "model_module_version": "1.5.0",
      "model_name": "ProgressStyleModel",
      "state": {
       "_model_module": "@jupyter-widgets/controls",
       "_model_module_version": "1.5.0",
       "_model_name": "ProgressStyleModel",
       "_view_count": null,
       "_view_module": "@jupyter-widgets/base",
       "_view_module_version": "1.2.0",
       "_view_name": "StyleView",
       "bar_color": null,
       "description_width": ""
      }
     },
     "792e02f5d86f4eb5ac20ffcd1ef68b08": {
      "model_module": "@jupyter-widgets/controls",
      "model_module_version": "1.5.0",
      "model_name": "DescriptionStyleModel",
      "state": {
       "_model_module": "@jupyter-widgets/controls",
       "_model_module_version": "1.5.0",
       "_model_name": "DescriptionStyleModel",
       "_view_count": null,
       "_view_module": "@jupyter-widgets/base",
       "_view_module_version": "1.2.0",
       "_view_name": "StyleView",
       "description_width": ""
      }
     },
     "7c7b890593b44327b13dce5c98ae6c6a": {
      "model_module": "@jupyter-widgets/controls",
      "model_module_version": "1.5.0",
      "model_name": "HTMLModel",
      "state": {
       "_dom_classes": [],
       "_model_module": "@jupyter-widgets/controls",
       "_model_module_version": "1.5.0",
       "_model_name": "HTMLModel",
       "_view_count": null,
       "_view_module": "@jupyter-widgets/controls",
       "_view_module_version": "1.5.0",
       "_view_name": "HTMLView",
       "description": "",
       "description_tooltip": null,
       "layout": "IPY_MODEL_5e79095ff1484b78a4d25eae440e3515",
       "placeholder": "​",
       "style": "IPY_MODEL_d01b31669de040d3b4df99cb44aae358",
       "value": "Epoch 0:   2%"
      }
     },
     "8370223044f24a269cd66f8632b078ce": {
      "model_module": "@jupyter-widgets/base",
      "model_module_version": "1.2.0",
      "model_name": "LayoutModel",
      "state": {
       "_model_module": "@jupyter-widgets/base",
       "_model_module_version": "1.2.0",
       "_model_name": "LayoutModel",
       "_view_count": null,
       "_view_module": "@jupyter-widgets/base",
       "_view_module_version": "1.2.0",
       "_view_name": "LayoutView",
       "align_content": null,
       "align_items": null,
       "align_self": null,
       "border": null,
       "bottom": null,
       "display": "inline-flex",
       "flex": null,
       "flex_flow": "row wrap",
       "grid_area": null,
       "grid_auto_columns": null,
       "grid_auto_flow": null,
       "grid_auto_rows": null,
       "grid_column": null,
       "grid_gap": null,
       "grid_row": null,
       "grid_template_areas": null,
       "grid_template_columns": null,
       "grid_template_rows": null,
       "height": null,
       "justify_content": null,
       "justify_items": null,
       "left": null,
       "margin": null,
       "max_height": null,
       "max_width": null,
       "min_height": null,
       "min_width": null,
       "object_fit": null,
       "object_position": null,
       "order": null,
       "overflow": null,
       "overflow_x": null,
       "overflow_y": null,
       "padding": null,
       "right": null,
       "top": null,
       "visibility": null,
       "width": "100%"
      }
     },
     "927eb6235ac54c058473ccde7c13d9f0": {
      "model_module": "@jupyter-widgets/controls",
      "model_module_version": "1.5.0",
      "model_name": "DescriptionStyleModel",
      "state": {
       "_model_module": "@jupyter-widgets/controls",
       "_model_module_version": "1.5.0",
       "_model_name": "DescriptionStyleModel",
       "_view_count": null,
       "_view_module": "@jupyter-widgets/base",
       "_view_module_version": "1.2.0",
       "_view_name": "StyleView",
       "description_width": ""
      }
     },
     "b4cf6e5384e74ddcb593c18a70d3d2f0": {
      "model_module": "@jupyter-widgets/controls",
      "model_module_version": "1.5.0",
      "model_name": "DescriptionStyleModel",
      "state": {
       "_model_module": "@jupyter-widgets/controls",
       "_model_module_version": "1.5.0",
       "_model_name": "DescriptionStyleModel",
       "_view_count": null,
       "_view_module": "@jupyter-widgets/base",
       "_view_module_version": "1.2.0",
       "_view_name": "StyleView",
       "description_width": ""
      }
     },
     "be669e4531d646b68d27c45a79755af8": {
      "model_module": "@jupyter-widgets/controls",
      "model_module_version": "1.5.0",
      "model_name": "HTMLModel",
      "state": {
       "_dom_classes": [],
       "_model_module": "@jupyter-widgets/controls",
       "_model_module_version": "1.5.0",
       "_model_name": "HTMLModel",
       "_view_count": null,
       "_view_module": "@jupyter-widgets/controls",
       "_view_module_version": "1.5.0",
       "_view_name": "HTMLView",
       "description": "",
       "description_tooltip": null,
       "layout": "IPY_MODEL_0a60c13a17a847348c103e4c971d33ab",
       "placeholder": "​",
       "style": "IPY_MODEL_792e02f5d86f4eb5ac20ffcd1ef68b08",
       "value": " 20770/883811 [3:00:00&lt;124:39:34,  1.92it/s, v_num=0]"
      }
     },
     "c8bc331b5e9846d4bf5f00bd348e4dbc": {
      "model_module": "@jupyter-widgets/base",
      "model_module_version": "1.2.0",
      "model_name": "LayoutModel",
      "state": {
       "_model_module": "@jupyter-widgets/base",
       "_model_module_version": "1.2.0",
       "_model_name": "LayoutModel",
       "_view_count": null,
       "_view_module": "@jupyter-widgets/base",
       "_view_module_version": "1.2.0",
       "_view_name": "LayoutView",
       "align_content": null,
       "align_items": null,
       "align_self": null,
       "border": null,
       "bottom": null,
       "display": null,
       "flex": "2",
       "flex_flow": null,
       "grid_area": null,
       "grid_auto_columns": null,
       "grid_auto_flow": null,
       "grid_auto_rows": null,
       "grid_column": null,
       "grid_gap": null,
       "grid_row": null,
       "grid_template_areas": null,
       "grid_template_columns": null,
       "grid_template_rows": null,
       "height": null,
       "justify_content": null,
       "justify_items": null,
       "left": null,
       "margin": null,
       "max_height": null,
       "max_width": null,
       "min_height": null,
       "min_width": null,
       "object_fit": null,
       "object_position": null,
       "order": null,
       "overflow": null,
       "overflow_x": null,
       "overflow_y": null,
       "padding": null,
       "right": null,
       "top": null,
       "visibility": null,
       "width": null
      }
     },
     "d01b31669de040d3b4df99cb44aae358": {
      "model_module": "@jupyter-widgets/controls",
      "model_module_version": "1.5.0",
      "model_name": "DescriptionStyleModel",
      "state": {
       "_model_module": "@jupyter-widgets/controls",
       "_model_module_version": "1.5.0",
       "_model_name": "DescriptionStyleModel",
       "_view_count": null,
       "_view_module": "@jupyter-widgets/base",
       "_view_module_version": "1.2.0",
       "_view_name": "StyleView",
       "description_width": ""
      }
     },
     "d3a032ed11ea4689ae1351658e6de8a8": {
      "model_module": "@jupyter-widgets/base",
      "model_module_version": "1.2.0",
      "model_name": "LayoutModel",
      "state": {
       "_model_module": "@jupyter-widgets/base",
       "_model_module_version": "1.2.0",
       "_model_name": "LayoutModel",
       "_view_count": null,
       "_view_module": "@jupyter-widgets/base",
       "_view_module_version": "1.2.0",
       "_view_name": "LayoutView",
       "align_content": null,
       "align_items": null,
       "align_self": null,
       "border": null,
       "bottom": null,
       "display": null,
       "flex": "2",
       "flex_flow": null,
       "grid_area": null,
       "grid_auto_columns": null,
       "grid_auto_flow": null,
       "grid_auto_rows": null,
       "grid_column": null,
       "grid_gap": null,
       "grid_row": null,
       "grid_template_areas": null,
       "grid_template_columns": null,
       "grid_template_rows": null,
       "height": null,
       "justify_content": null,
       "justify_items": null,
       "left": null,
       "margin": null,
       "max_height": null,
       "max_width": null,
       "min_height": null,
       "min_width": null,
       "object_fit": null,
       "object_position": null,
       "order": null,
       "overflow": null,
       "overflow_x": null,
       "overflow_y": null,
       "padding": null,
       "right": null,
       "top": null,
       "visibility": null,
       "width": null
      }
     },
     "d7fd74007aba44afa7ffd6c96a21295b": {
      "model_module": "@jupyter-widgets/controls",
      "model_module_version": "1.5.0",
      "model_name": "FloatProgressModel",
      "state": {
       "_dom_classes": [],
       "_model_module": "@jupyter-widgets/controls",
       "_model_module_version": "1.5.0",
       "_model_name": "FloatProgressModel",
       "_view_count": null,
       "_view_module": "@jupyter-widgets/controls",
       "_view_module_version": "1.5.0",
       "_view_name": "ProgressView",
       "bar_style": "danger",
       "description": "",
       "description_tooltip": null,
       "layout": "IPY_MODEL_c8bc331b5e9846d4bf5f00bd348e4dbc",
       "max": 883811.0,
       "min": 0.0,
       "orientation": "horizontal",
       "style": "IPY_MODEL_4e0be474ad94471e9be5f9ab2671c178",
       "value": 20770.0
      }
     },
     "e73edffce6ed432eb274b17604f34376": {
      "model_module": "@jupyter-widgets/controls",
      "model_module_version": "1.5.0",
      "model_name": "HTMLModel",
      "state": {
       "_dom_classes": [],
       "_model_module": "@jupyter-widgets/controls",
       "_model_module_version": "1.5.0",
       "_model_name": "HTMLModel",
       "_view_count": null,
       "_view_module": "@jupyter-widgets/controls",
       "_view_module_version": "1.5.0",
       "_view_name": "HTMLView",
       "description": "",
       "description_tooltip": null,
       "layout": "IPY_MODEL_37fd717298d7409c8e218b54ef863b6f",
       "placeholder": "​",
       "style": "IPY_MODEL_927eb6235ac54c058473ccde7c13d9f0",
       "value": "Predicting DataLoader 0: 100%"
      }
     }
    },
    "version_major": 2,
    "version_minor": 0
   }
  }
 },
 "nbformat": 4,
 "nbformat_minor": 5
}
